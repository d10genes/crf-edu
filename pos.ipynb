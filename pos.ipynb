{
 "cells": [
  {
   "cell_type": "code",
   "execution_count": null,
   "metadata": {
    "collapsed": false
   },
   "outputs": [],
   "source": [
    "from py3k_imports import * \n",
    "import project_imports3; reload(project_imports3); from project_imports3 import *\n",
    "\n",
    "import warnings\n",
    "warnings.filterwarnings('ignore')\n",
    "\n",
    "pu.psettings(pd)\n",
    "pd.options.display.width = 150   # 200\n",
    "%matplotlib inline"
   ]
  },
  {
   "cell_type": "code",
   "execution_count": null,
   "metadata": {
    "collapsed": false
   },
   "outputs": [],
   "source": [
    "%%javascript\n",
    "IPython.keyboard_manager.command_shortcuts.add_shortcut('Ctrl-k','ipython.move-selected-cell-up')\n",
    "IPython.keyboard_manager.command_shortcuts.add_shortcut('Ctrl-j','ipython.move-selected-cell-down')\n",
    "IPython.keyboard_manager.command_shortcuts.add_shortcut('Shift-m','ipython.merge-selected-cell-with-cell-after')"
   ]
  },
  {
   "cell_type": "code",
   "execution_count": null,
   "metadata": {
    "collapsed": true
   },
   "outputs": [],
   "source": [
    "from collections import defaultdict, Counter\n",
    "import inspect\n",
    "from typing import List, Dict\n",
    "Df = Dict\n",
    "Y = str\n",
    "\n",
    "if sys.version_info.major > 2:\n",
    "    unicode = str"
   ]
  },
  {
   "cell_type": "markdown",
   "metadata": {},
   "source": [
    "from py3k_imports import *\n",
    "from project_imports3 import *\n",
    "import pandas as pd\n",
    "import seaborn as sns\n",
    "import autograd.numpy as np\n",
    "\n",
    "from operator import itemgetter as itg\n",
    "import toolz.curried as z\n",
    "from collections import OrderedDict"
   ]
  },
  {
   "cell_type": "markdown",
   "metadata": {},
   "source": [
    "## Load data"
   ]
  },
  {
   "cell_type": "code",
   "execution_count": null,
   "metadata": {
    "collapsed": true
   },
   "outputs": [],
   "source": [
    "with open('data/pos.train.txt','r') as f:\n",
    "    txt = f.read() #"
   ]
  },
  {
   "cell_type": "code",
   "execution_count": null,
   "metadata": {
    "collapsed": false
   },
   "outputs": [],
   "source": [
    "sents = filter(None, [zip(*[e.split() for e in sent.splitlines()]) for sent in txt[:].split('\\n\\n')])\n",
    "X = map(itg(0), sents)\n",
    "Y_ = map(itg(1), sents)\n",
    "tags = sorted({tag for y in Y_ for tag in y if tag.isalpha()})"
   ]
  },
  {
   "cell_type": "code",
   "execution_count": null,
   "metadata": {
    "collapsed": false
   },
   "outputs": [],
   "source": [
    "txt[:100]"
   ]
  },
  {
   "cell_type": "code",
   "execution_count": null,
   "metadata": {
    "collapsed": false
   },
   "outputs": [],
   "source": [
    "# common bigrams\n",
    "bigs = defaultdict(lambda: defaultdict(int))\n",
    "\n",
    "for y in Y_:\n",
    "    for t1, t2 in zip(y[:-1], y[1:]):\n",
    "        bigs[t1][t2] += 1\n",
    "        \n",
    "bigd = DataFrame(bigs).fillna(0)[tags].ix[tags]\n",
    "# bigd\n",
    "# sns.clustermap(bigd, annot=1, figsize=(16, 20), fmt='.0f')"
   ]
  },
  {
   "cell_type": "code",
   "execution_count": null,
   "metadata": {
    "collapsed": false
   },
   "outputs": [],
   "source": [
    "wcts_all = defaultdict(Counter)\n",
    "for xi, yi in zip(X, Y_):\n",
    "    for xw, yw in zip(xi, yi):\n",
    "        wcts_all[xw][yw] += 1"
   ]
  },
  {
   "cell_type": "code",
   "execution_count": null,
   "metadata": {
    "collapsed": false
   },
   "outputs": [],
   "source": [
    "wcts = z.valfilter(lambda x: sum(x.values()) > 4, wcts_all)"
   ]
  },
  {
   "cell_type": "code",
   "execution_count": null,
   "metadata": {
    "collapsed": false
   },
   "outputs": [],
   "source": [
    "' '.join(y)"
   ]
  },
  {
   "cell_type": "code",
   "execution_count": null,
   "metadata": {
    "collapsed": false
   },
   "outputs": [],
   "source": [
    "' '.join(tags)"
   ]
  },
  {
   "cell_type": "markdown",
   "metadata": {},
   "source": [
    "## Algo\n",
    "\n",
    "$$\n",
    "p(\\bar y | \\bar x;w) =\n",
    "\\frac {1} {Z(\\bar x, w)}\n",
    "\\exp \\sum_j w_j F_j(\\bar x, \\bar y)\n",
    "$$\n",
    "\n",
    "$$\n",
    "F_j(\\bar x, \\bar y) = \n",
    "\\sum_{i=1}^n f_j(y_{i-1}, y_i, \\bar x, i)\n",
    "$$"
   ]
  },
  {
   "cell_type": "markdown",
   "metadata": {},
   "source": [
    "# Utils Imports"
   ]
  },
  {
   "cell_type": "code",
   "execution_count": null,
   "metadata": {
    "collapsed": false
   },
   "outputs": [],
   "source": [
    "import utils; reload(utils); from utils import *\n",
    "# from utils import sum1, sum2, post_mr, mk_sum, F\n",
    "fs = AttrDict(fs)\n",
    "fsums = AttrDict(fsums)"
   ]
  },
  {
   "cell_type": "code",
   "execution_count": null,
   "metadata": {
    "collapsed": true
   },
   "outputs": [],
   "source": [
    "def eq(x):\n",
    "    return lambda y: x == y\n",
    "\n",
    "def sch(term, x=False):\n",
    "    \"Search in X or Y for term, return matching input and output\"\n",
    "    f = eq(term) if isinstance(term, (str, unicode)) else term\n",
    "    ss = X if x else Y\n",
    "    for i, s in enumerate(ss):\n",
    "        if any(f(t) for t in s):\n",
    "            yield X[i], Y_[i]"
   ]
  },
  {
   "cell_type": "markdown",
   "metadata": {
    "collapsed": false
   },
   "source": [
    "Yb = map(FeatUtils.mkbookend, Y_)"
   ]
  },
  {
   "cell_type": "markdown",
   "metadata": {
    "collapsed": true
   },
   "source": [
    "    x0 = X[0]\n",
    "    y0 = Y_[0]"
   ]
  },
  {
   "cell_type": "markdown",
   "metadata": {},
   "source": [
    "### Argmax\n",
    "\n",
    "Get $\\text{argmax}_{\\bar y} p(\\bar y | \\bar x;w)$. Since the scoring function only depends on 2 (consecutive in this situation) elements of $\\bar y$, argmax can be computed in polynomial time with a table ($\\in ℝ^{|Y| \\times |y|}$). $U_{ij}$ is the highest score for sequences ending in $y_i$ at position $y_j$."
   ]
  },
  {
   "cell_type": "markdown",
   "metadata": {},
   "source": [
    "$$\n",
    "g_i(y_ {i-1}, y_i) = \\sum^J_{j=1} w_j f_j (y_ {i-1}, y_i, \\bar x, i)\n",
    "$$"
   ]
  },
  {
   "cell_type": "markdown",
   "metadata": {
    "collapsed": true
   },
   "source": [
    "    # def gf(ws, yp, y, xbar, i):\n",
    "    #     return sum(f(yp, y, xbar, i) * ws[fn] for fn, f in fs.items())\n",
    "\n",
    "    x_ = ['Mr.', 'Doo', 'in', 'a', 'circus']\n",
    "    y_ = ['NNP', 'NNP', 'IN', 'DT', 'IN']\n",
    "\n",
    "    mkwts1 = lambda fs: z.valmap(const(1), fs)\n",
    "    ws = mkwts1(fs)\n",
    "\n",
    "    gf = mkgf(ws, fs, tags, x_)\n",
    "    # gf = mkgf(ws, fs, tags, ['Mr.', 'Happy', 'derp'])"
   ]
  },
  {
   "cell_type": "markdown",
   "metadata": {},
   "source": [
    "### Generate maximum score matrix U"
   ]
  },
  {
   "cell_type": "code",
   "execution_count": null,
   "metadata": {
    "collapsed": true
   },
   "outputs": [],
   "source": [
    "def init_u(m0):\n",
    "    mu = m0.mean()\n",
    "    ymax = mu.idxmax()\n",
    "    return ymax, mu[ymax]\n",
    "\n",
    "\n",
    "def init_score(tags, tag=START, sort=True):\n",
    "    \"Base case for recurrent score calculation U\"\n",
    "    i = Series(0, index=sorted(tags) if sort else tags)\n",
    "    i.loc[tag] = 1\n",
    "    return i"
   ]
  },
  {
   "cell_type": "markdown",
   "metadata": {},
   "source": [
    "    f = fs2['eq_wd1']\n",
    "    f('START', 'TAG1', xt2, 2)\n",
    "\n",
    "    F = Fs2['eq_wd2']\n",
    "    F(xt2, yt2)"
   ]
  },
  {
   "cell_type": "code",
   "execution_count": null,
   "metadata": {
    "collapsed": false
   },
   "outputs": [],
   "source": [
    "def s2df(xs: List[Series]) -> DataFrame:\n",
    "    return DataFrame({i: s for i, s in enumerate(xs)})\n",
    "\n",
    "def debugu(ufunc, gmat, uadd, gf, pt, k):\n",
    "    ufunc.gmat = gmat\n",
    "    ufunc.uadd = uadd\n",
    "    pt('\\n', k)\n",
    "    pt(gf.xbar[k], )\n",
    "    pt(gmat)\n",
    "    pt('\\nuadd')\n",
    "    pt(uadd)\n",
    "    \n",
    "def get_u(k: int=None, gf: \"int -> (Y, Y') -> float\"=None, collect=True, verbose=False) -> '([max score], [max ix])':\n",
    "    \"\"\"Recursively build up g_i matrices bottom up, adding y-1 score\n",
    "    to get max y score. Returns score.\n",
    "    - k is in terms of y vector, which is augmented with beginning and end tags\n",
    "    - also returns indices yprev that maximize y at each level to help reconstruct\n",
    "        most likely sequence\n",
    "    \"\"\"\n",
    "    pt = testprint(verbose)\n",
    "    imx = len(gf.xbar) + 1\n",
    "    if k is None:\n",
    "        pt(gf.xbar)\n",
    "        return get_u(imx, gf=gf, collect=1, verbose=verbose)\n",
    "    if k == 0:\n",
    "        return [init_score(gf.tags, START)], []\n",
    "\n",
    "    uprevs, ixprevs = get_u(k - 1, gf=gf, collect=False, verbose=verbose)\n",
    "    gmat = getmat(gf(k))\n",
    "    uadd = gmat.add(uprevs[-1], axis='index')\n",
    "    \n",
    "    if k > 0:\n",
    "        # START tag only possible at beginning.\n",
    "        # There should be a better way of imposing these constraints\n",
    "        uadd[START] = -1\n",
    "    if k < imx:\n",
    "        uadd[END] = -1  # END only possible at the...end\n",
    "    \n",
    "    if k == 1:\n",
    "        idxmax = Series(START, index=gf.tags)  # uadd.ix[START].idxmax()\n",
    "    else:\n",
    "        idxmax = uadd.idxmax()\n",
    "    pt('idxmax:', idxmax, sep='\\n')\n",
    "    retu, reti = uprevs + [uadd.max()], ixprevs + [idxmax]\n",
    "    if not collect:\n",
    "        return retu, reti\n",
    "    return s2df(retu), s2df(reti)\n",
    "\n",
    "\n",
    "def mlp(idxs, i: int=None, tagsrev: List[Y]=[END]) -> List[Y]:\n",
    "    \"Most likely sequence\"\n",
    "    if i is None:\n",
    "        return mlp(idxs, i=int(idxs.columns[-1]), tagsrev=tagsrev)\n",
    "    elif i < 0:\n",
    "        return tagsrev[::-1]\n",
    "    tag = tagsrev[-1]\n",
    "    yprev = idxs.loc[tag, i]\n",
    "    return mlp(idxs, i=i - 1, tagsrev=tagsrev + [yprev])\n",
    "\n",
    "# u2, i2 = get_u(gf=test_getu2.gf2, collect=True, verbose=1)\n",
    "# i2\n",
    "# u, k = get_u(4, collect=1)"
   ]
  },
  {
   "cell_type": "code",
   "execution_count": null,
   "metadata": {
    "collapsed": false
   },
   "outputs": [],
   "source": [
    "def test_getu1(get_u):\n",
    "    tgs = [START, 'TAG1', END]\n",
    "    fs = {'eq_wd1': mk_word_tag('wd1', 'TAG1')}\n",
    "    ytpred = [START, 'TAG1', END]\n",
    "    x = EasyList(['wd1'])\n",
    "    \n",
    "    gf = mkgf(mkwts1(fs), fs, tgs, x)\n",
    "    u, i = get_u(gf=gf, collect=True)\n",
    "    assert (u.idxmax() == ytpred).all()\n",
    "    assert u.iloc[:, -1].max() == 2\n",
    "    \n",
    "def test_getu2(get_u):\n",
    "    tgs = [START, 'TAG1', END]\n",
    "    x2 = EasyList(['wd1', 'pre-end'])\n",
    "    fs = {'eq_wd1': mk_word_tag('wd1', 'TAG1'),\n",
    "          'pre_endx': lambda yp, y, x, i: (x[i - 1] == 'pre-end') and (y == END)}\n",
    "    ws = z.merge(mkwts1(fs), {'pre_endx': 3})\n",
    "    gf2 = mkgf(ws, fs, tgs, x2)\n",
    "    assert all(getmat(gf2(3))[END] == 3)\n",
    "    test_getu2.gf2 = gf2\n",
    "    test_getu2.fs = fs\n",
    "    u2, i2 = get_u(gf=gf2, collect=True, verbose=0)\n",
    "    # print(u2)\n",
    "    assert (u2.idxmax() == [START, 'TAG1', 'TAG1', END]).all()\n",
    "    assert u2.iloc[:, -1].max() == 5\n",
    "    assert mlp(i2) == ['START', 'TAG1', 'TAG1', 'END']\n",
    "    return u2, i2\n",
    "    \n",
    "def test_getu3(get_u):\n",
    "    tgs = [START, 'TAG1', 'PENULTAG', END]\n",
    "    fs = {'eq_wd1': mk_word_tag('wd1', 'TAG1'),\n",
    "#           'pre_endx': lambda yp, y, x, i: (x[i - 1] == 'pre-end') and (y == END),\n",
    "          'pre_endy': lambda yp, y, x, i: (yp == 'PENULTAG') and (y == END),\n",
    "          'start_nonzero': lambda yp, y, x, i: (y == START) and (i != 0),\n",
    "          'start_zero': lambda yp, y, x, i: (y == START) and (i == 0),\n",
    "          'end_nonend': lambda yp, y, x, i: (y == END) and (i != (len(x) + 1)),\n",
    "          'end_end': lambda yp, y, x, i: (y == END) and (i == (len(x) + 1)),\n",
    "         }\n",
    "    ws = z.merge(mkwts1(fs), {'pre_endy': 3, 'start_nonzero': -1, 'end_nonend': -1})\n",
    "    x2 = EasyList(['wd1', 'pre-end', 'whatevs'])\n",
    "    gf2 = mkgf(ws, fs, tgs, x2)\n",
    "    test_getu3.gf2 = gf2\n",
    "    test_getu3.fs = fs\n",
    "    u2, i2 = get_u(gf=gf2, collect=True, verbose=0)\n",
    "    assert mlp(i2) == ['START', 'TAG1', 'PENULTAG', 'PENULTAG', 'END']\n",
    "    return u2, i2\n",
    "\n",
    "test_getu1(get_u)\n",
    "test_getu2(get_u)\n",
    "test_getu3(get_u)\n",
    "None\n",
    "# u, i = test_getu2()"
   ]
  },
  {
   "cell_type": "code",
   "execution_count": null,
   "metadata": {
    "collapsed": false
   },
   "outputs": [],
   "source": [
    "def side_by_side(da, db):\n",
    "    d = da.copy()\n",
    "    d2 = DataFrame(db.copy())\n",
    "    d.columns = pd.MultiIndex.from_product([['A'], list(d)])\n",
    "    d2.columns = pd.MultiIndex.from_product([['B'], list(d2)])\n",
    "    d[d2.columns] = d2\n",
    "    return d\n",
    "\n",
    "def side_by_side(*ds):\n",
    "    dmultis = [side_by_side1(d, ctr=i) for i, d in enumerate(ds)]\n",
    "    return pd.concat(dmultis, axis=1)\n",
    "\n",
    "def side_by_side1(d, ctr=1):\n",
    "    d = DataFrame(d.copy())\n",
    "    d.columns = pd.MultiIndex.from_product([[ctr], list(d)])\n",
    "    return d\n",
    "    \n",
    "def side_by_side_(*objs, **kwds):\n",
    "    from pandas.core.common import adjoin\n",
    "    space = kwds.get('space', 4)\n",
    "    reprs = [repr(obj).split('\\n') for obj in objs]\n",
    "    print(adjoin(space, *reprs))\n",
    "    \n",
    "def ff(m):\n",
    "    return side_by_side(m, m.idxmax(), m.max())"
   ]
  },
  {
   "cell_type": "code",
   "execution_count": null,
   "metadata": {
    "collapsed": false
   },
   "outputs": [],
   "source": [
    "def predict(xbar=None, fs=None, tags=None, ws=None):\n",
    "    \"Return argmax_y with corresponding score\"\n",
    "    ws = ws or mkwts1(fs)\n",
    "    gf = mkgf(ws, fs, tags, xbar)\n",
    "    u, i = get_u(gf=gf, collect=True, verbose=0)\n",
    "    path = mlp(i)\n",
    "    return path, u.ix[END].iloc[-1]\n",
    "    \n",
    "path2, score2 = predict(xbar=EasyList(['wd1', 'pre-end', 'whatevs']),\n",
    "                        fs=test_getu3.fs,\n",
    "                        tags=[START, 'TAG1', 'PENULTAG', END])"
   ]
  },
  {
   "cell_type": "markdown",
   "metadata": {},
   "source": [
    "##Gradient\n",
    "$$\\frac{\\partial}{\\partial w_j} \\log p(y | x;w) = F_j (x, y) - \\frac1 {Z(x, w)} \\sum_{y'} F_j (x, y') [\\exp \\sum_{j'} w_{j'} F_{j'} (x, y')]$$\n",
    "$$= F_j (x, y) - E_{y' \\sim  p(y | x;w) } [F_j(x,y')]$$"
   ]
  },
  {
   "cell_type": "markdown",
   "metadata": {},
   "source": [
    "## Forward-backward algorithm\n",
    "- Useful for finding partition function $Z(\\bar x, w) = \\sum_{\\bar y} \\exp \\sum _{j=1} ^ J w_j F_j (\\bar x, \\bar y) $ \n",
    "   \n",
    "$$\\alpha (k + 1,v) = \\sum_u \\alpha (k,u)[\\exp g_{k+1}(u,v)] \\in ℝ^m$$\n",
    "$$\\alpha (0,y) = I(y=START)$$\n",
    "\n",
    "$$\\beta (u, k) = \\sum_v [\\exp g_{k+1} (u, v)] \\beta(v, k+1) $$\n",
    "$$\\beta (u, n+1) = I(u= END) $$"
   ]
  },
  {
   "cell_type": "code",
   "execution_count": null,
   "metadata": {
    "collapsed": true
   },
   "outputs": [],
   "source": [
    "k = 0\n",
    "tgs = [START, 'TAG1', END]\n",
    "x = EasyList(['wd1', 'pre-end'])\n",
    "fs = {\n",
    "#     'eq_wd1': mk_word_tag('wd1', 'TAG1'),\n",
    "    'pre_endx': lambda yp, y, x, i: (x[i - 1] == 'pre-end') and (y == END)\n",
    "     }\n",
    "ws = z.merge(mkwts1(fs), {'pre_endx': 1})\n",
    "# f = fs['eq_wd1']\n",
    "gf = mkgf(ws, fs, tgs, x)"
   ]
  },
  {
   "cell_type": "code",
   "execution_count": null,
   "metadata": {
    "collapsed": false
   },
   "outputs": [],
   "source": [
    "def get_a(gf):\n",
    "    exp_score = z.compose(np.array, np.exp, getmat, gf)\n",
    "    def a(i):\n",
    "        if i == 0:\n",
    "            return init_score(gf.tags, tag=START).values\n",
    "        return a(i- 1) @ exp_score(i)\n",
    "    get_a.a = a\n",
    "    return a(len(gf.xbar) + 1)\n",
    "\n",
    "def get_b(gf):\n",
    "    exp_score = z.compose(np.array, np.exp, getmat, gf)\n",
    "    imx = len(gf.xbar) + 1\n",
    "    def b(i):\n",
    "        if i == imx:\n",
    "            return init_score(gf.tags, tag=END).values\n",
    "        return exp_score(i).T @ b(i + 1)\n",
    "#         return b(i + 1) @ exp_score(i).T\n",
    "    get_b.b = b\n",
    "    return b(0)\n",
    "\n",
    "get_a(gf)\n",
    "get_b(gf)"
   ]
  },
  {
   "cell_type": "code",
   "execution_count": null,
   "metadata": {
    "collapsed": false
   },
   "outputs": [],
   "source": [
    "for k in range(4):\n",
    "    # k = 3\n",
    "    print(get_a.a(k) @ get_b.b(k))"
   ]
  },
  {
   "cell_type": "code",
   "execution_count": null,
   "metadata": {
    "collapsed": false
   },
   "outputs": [],
   "source": [
    "get_a(gf), get_b(gf)"
   ]
  },
  {
   "cell_type": "code",
   "execution_count": null,
   "metadata": {
    "collapsed": false
   },
   "outputs": [],
   "source": [
    "get_a(gf).sum()"
   ]
  },
  {
   "cell_type": "code",
   "execution_count": null,
   "metadata": {
    "collapsed": false
   },
   "outputs": [],
   "source": [
    "\n",
    "\n"
   ]
  },
  {
   "cell_type": "code",
   "execution_count": null,
   "metadata": {
    "collapsed": false
   },
   "outputs": [],
   "source": [
    "get_b.b(k)"
   ]
  },
  {
   "cell_type": "code",
   "execution_count": null,
   "metadata": {
    "collapsed": false
   },
   "outputs": [],
   "source": [
    "get_a.a(k)"
   ]
  },
  {
   "cell_type": "code",
   "execution_count": null,
   "metadata": {
    "collapsed": false
   },
   "outputs": [],
   "source": [
    "get_b(gf).sum()"
   ]
  },
  {
   "cell_type": "code",
   "execution_count": null,
   "metadata": {
    "collapsed": false
   },
   "outputs": [],
   "source": [
    "a1 = \n",
    "gf"
   ]
  },
  {
   "cell_type": "code",
   "execution_count": null,
   "metadata": {
    "collapsed": true
   },
   "outputs": [],
   "source": [
    "gfa = mkgf(ws, fs, tags, xx)\n",
    "g1 = gfa(1)"
   ]
  },
  {
   "cell_type": "code",
   "execution_count": null,
   "metadata": {
    "collapsed": true
   },
   "outputs": [],
   "source": [
    "del forwarder"
   ]
  },
  {
   "cell_type": "code",
   "execution_count": null,
   "metadata": {
    "collapsed": true
   },
   "outputs": [],
   "source": [
    "yt = "
   ]
  },
  {
   "cell_type": "code",
   "execution_count": null,
   "metadata": {
    "collapsed": false
   },
   "outputs": [],
   "source": [
    "fs"
   ]
  },
  {
   "cell_type": "code",
   "execution_count": null,
   "metadata": {
    "collapsed": false
   },
   "outputs": [],
   "source": [
    "xt = EasyList(['wd1', 'wd2'])\n",
    "xt"
   ]
  },
  {
   "cell_type": "code",
   "execution_count": null,
   "metadata": {
    "collapsed": true
   },
   "outputs": [],
   "source": [
    "def mkforward(i=0, aprevs=None):\n",
    "    if not i:\n",
    "        return mkforward(i=i + 1, aprevs=[mka(y[i] == V)])\n",
    "    if i >= len(y):\n",
    "        return aprevs\n",
    "    aprev = aprevs[-1]\n",
    "    gk = mkg(i)\n",
    "    ai = mka([sum(aprev[u] * np.e ** gk(u, v) for u in V) for v in V])\n",
    "    return mkforward(i=i + 1, aprevs=aprevs + [ai])"
   ]
  },
  {
   "cell_type": "code",
   "execution_count": null,
   "metadata": {
    "collapsed": true
   },
   "outputs": [],
   "source": [
    "def alpha(x, y, V, ws, fs) -> List[Series]:\n",
    "    \"\"\"Unnormalized probability of set of possible sequences that end at position\n",
    "    `col` with tag `row`\n",
    "    \"\"\"\n",
    "    mka = lambda x: Series(list(x), index=V)\n",
    "    mkg = mkgf(ws, fs, V, x)\n",
    "    def mkforward(i=0, aprevs=None):\n",
    "        if not i:\n",
    "            return mkforward(i=i + 1, aprevs=[mka(y[i] == V)])\n",
    "        if i >= len(y):\n",
    "            return aprevs\n",
    "        aprev = aprevs[-1]\n",
    "        gk = mkg(i)\n",
    "        ai = mka([sum(aprev[u] * np.e ** gk(u, v) for u in V) for v in V])\n",
    "        return mkforward(i=i + 1, aprevs=aprevs + [ai])\n",
    "    return DataFrame(mkforward()).T"
   ]
  },
  {
   "cell_type": "code",
   "execution_count": null,
   "metadata": {
    "collapsed": true
   },
   "outputs": [],
   "source": [
    "def forward(x, y, V, ws, fs) -> List[Series]:\n",
    "    \"\"\"Unnormalized probability of set of possible sequences that end at position\n",
    "    `col` with tag `row`\n",
    "    \"\"\"\n",
    "    mka = lambda x: Series(list(x), index=V)\n",
    "    mkg = mkgf(ws, fs, V, x)\n",
    "    def mkforward(i=0, aprevs=None):\n",
    "        if not i:\n",
    "            return mkforward(i=i + 1, aprevs=[mka(y[i] == V)])\n",
    "        if i >= len(y):\n",
    "            return aprevs\n",
    "        aprev = aprevs[-1]\n",
    "        gk = mkg(i)\n",
    "        ai = mka([sum(aprev[u] * np.e ** gk(u, v) for u in V) for v in V])\n",
    "        return mkforward(i=i + 1, aprevs=aprevs + [ai])\n",
    "    return DataFrame(mkforward()).T"
   ]
  },
  {
   "cell_type": "code",
   "execution_count": null,
   "metadata": {
    "collapsed": false
   },
   "outputs": [],
   "source": [
    "z.operator.sub(1)(9)"
   ]
  },
  {
   "cell_type": "code",
   "execution_count": null,
   "metadata": {
    "collapsed": true
   },
   "outputs": [],
   "source": [
    "def backward(x, y, V, ws, fs) -> List[Series]:\n",
    "    mksrs = lambda x: Series(list(x), index=V)\n",
    "    mkg = mkgf(ws, fs, V, x)\n",
    "    i_init = len(y)-1\n",
    "    i_fin = -1\n",
    "    nxt = lambda x: x - 1\n",
    "    \n",
    "    def mkprobvec(i=i_init, pprevs=None):\n",
    "        if i == i_init:\n",
    "            return mkprobvec(i=nxt(i), pprevs=[mksrs(y[i] == V)])\n",
    "        if i == i_fin:\n",
    "            return pprevs\n",
    "        pprev = pprevs[-1]\n",
    "        gk = mkg(i)\n",
    "        ai = mksrs([sum(pprev[inv] * np.e ** gk(outv, inv) for inv in V) for outv in V])\n",
    "        return mkprobvec(i=nxt(i), pprevs=pprevs + [ai])\n",
    "    return DataFrame(mkprobvec()[::-1]).T"
   ]
  },
  {
   "cell_type": "code",
   "execution_count": null,
   "metadata": {
    "collapsed": false
   },
   "outputs": [],
   "source": [
    "DataFrame([xx, yy])"
   ]
  },
  {
   "cell_type": "code",
   "execution_count": null,
   "metadata": {
    "collapsed": false
   },
   "outputs": [],
   "source": [
    "aa"
   ]
  },
  {
   "cell_type": "code",
   "execution_count": null,
   "metadata": {
    "collapsed": false
   },
   "outputs": [],
   "source": [
    "bb = backward(xx, yy, ts, ws, fs)\n",
    "bb"
   ]
  },
  {
   "cell_type": "code",
   "execution_count": null,
   "metadata": {
    "collapsed": false
   },
   "outputs": [],
   "source": [
    "yy"
   ]
  },
  {
   "cell_type": "code",
   "execution_count": null,
   "metadata": {
    "collapsed": false
   },
   "outputs": [],
   "source": [
    "aa = forward(xx, yy, ts, ws, fs)\n",
    "aa.iloc[:, -1].sum()"
   ]
  },
  {
   "cell_type": "code",
   "execution_count": null,
   "metadata": {
    "collapsed": false
   },
   "outputs": [],
   "source": [
    "bb.sum().sum()"
   ]
  },
  {
   "cell_type": "code",
   "execution_count": null,
   "metadata": {
    "collapsed": true
   },
   "outputs": [],
   "source": [
    "[sum(a0[u] * np.e ** g1(u, v) for u in ts) for v in ts]"
   ]
  },
  {
   "cell_type": "code",
   "execution_count": null,
   "metadata": {
    "collapsed": true
   },
   "outputs": [],
   "source": [
    "[np.e ** sum(g1(u, v) for u in ts) for v in ts]"
   ]
  },
  {
   "cell_type": "code",
   "execution_count": null,
   "metadata": {
    "collapsed": false
   },
   "outputs": [],
   "source": []
  },
  {
   "cell_type": "code",
   "execution_count": null,
   "metadata": {
    "collapsed": false
   },
   "outputs": [],
   "source": [
    "fsums.wd_a(xx, yy)"
   ]
  },
  {
   "cell_type": "markdown",
   "metadata": {},
   "source": [
    "$$U(k, v) = \\max_u [U(k-1, u) + g_k(u,v)]$$\n",
    "$$U(1, vec) = \\max_{y_0} [U(0, y_0) + g_k(y_0,vec)]$$"
   ]
  },
  {
   "cell_type": "markdown",
   "metadata": {},
   "source": [
    "## Extra"
   ]
  },
  {
   "cell_type": "code",
   "execution_count": null,
   "metadata": {
    "collapsed": false
   },
   "outputs": [],
   "source": [
    "t = '''$3,275 Individual $6,550 Family\n",
    "$2,000 Individual $4,000 Family\n",
    "$2,000 Individual $4,000 Family\n",
    "'''.splitlines()\n",
    "x = map(str.split, t)\n",
    "i = z.pipe(x, z.map(itg(0)), '\\t'.join)\n",
    "# i = map(itg(0), x)\n",
    "# f = map(itg(2), x)\n",
    "f\n",
    "i"
   ]
  },
  {
   "cell_type": "code",
   "execution_count": null,
   "metadata": {
    "collapsed": true
   },
   "outputs": [],
   "source": []
  }
 ],
 "metadata": {
  "kernelspec": {
   "display_name": "Python 3",
   "language": "python",
   "name": "python3"
  },
  "language_info": {
   "codemirror_mode": {
    "name": "ipython",
    "version": 3
   },
   "file_extension": ".py",
   "mimetype": "text/x-python",
   "name": "python",
   "nbconvert_exporter": "python",
   "pygments_lexer": "ipython3",
   "version": "3.5.0"
  }
 },
 "nbformat": 4,
 "nbformat_minor": 0
}
