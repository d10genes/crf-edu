{
 "cells": [
  {
   "cell_type": "markdown",
   "metadata": {},
   "source": [
    "# Linear chain CRFs\n",
    "This is less of a blog post, and more of my annotated progress in implementing CRF's based on Charles Elkan's very excellent [video](http://videolectures.net/cikm08_elkan_llmacrf/) and [pdf](http://cseweb.ucsd.edu/~elkan/250Bwinter2012/loglinearCRFs.pdf) tutorials in order to have a better understanding of log-linear models."
   ]
  },
  {
   "cell_type": "code",
   "execution_count": null,
   "metadata": {
    "collapsed": false
   },
   "outputs": [],
   "source": [
    "from py3k_imports import * \n",
    "import project_imports3; reload(project_imports3); from project_imports3 import *\n",
    "\n",
    "import warnings\n",
    "warnings.filterwarnings('ignore')\n",
    "\n",
    "pu.psettings(pd)\n",
    "pd.options.display.width = 150   # 200\n",
    "%matplotlib inline"
   ]
  },
  {
   "cell_type": "code",
   "execution_count": null,
   "metadata": {
    "collapsed": false
   },
   "outputs": [],
   "source": [
    "%%javascript\n",
    "IPython.keyboard_manager.command_shortcuts.add_shortcut('Ctrl-k','ipython.move-selected-cell-up')\n",
    "IPython.keyboard_manager.command_shortcuts.add_shortcut('Ctrl-j','ipython.move-selected-cell-down')\n",
    "IPython.keyboard_manager.command_shortcuts.add_shortcut('Shift-m','ipython.merge-selected-cell-with-cell-after')"
   ]
  },
  {
   "cell_type": "code",
   "execution_count": null,
   "metadata": {
    "collapsed": true
   },
   "outputs": [],
   "source": [
    "from collections import defaultdict, Counter\n",
    "import inspect\n",
    "from typing import List, Dict, Tuple\n",
    "Df = Dict\n",
    "Y = str\n",
    "\n",
    "if sys.version_info.major > 2:\n",
    "    unicode = str"
   ]
  },
  {
   "cell_type": "code",
   "execution_count": null,
   "metadata": {
    "collapsed": true
   },
   "outputs": [],
   "source": [
    "import utils; reload(utils); from utils import *\n",
    "import crf; reload(crf); from crf import *\n",
    "FeatUtils.bookend = False"
   ]
  },
  {
   "cell_type": "code",
   "execution_count": null,
   "metadata": {
    "collapsed": false
   },
   "outputs": [],
   "source": [
    "Series.__matmul__ = Series.dot\n",
    "DataFrame.__matmul__ = DataFrame.dot\n",
    "\n",
    "from matmul_new import test_matmul\n",
    "test_matmul()"
   ]
  },
  {
   "cell_type": "markdown",
   "metadata": {},
   "source": [
    "## Probabilistic model\n",
    "\n",
    "Given a sequence $\\bar x$, the linear chain CRF model gives the probability of a corresponding sequence $\\bar y$ as follows, for feature functions $F_j$, where each $F_j$ is a sum of a corresponding lower level feature function $f_j$ over every element of the sequence:\n",
    "\n",
    "$$\n",
    "p(\\bar y | \\bar x;w) =\n",
    "\\frac {1} {Z(\\bar x, w)}\n",
    "\\exp \\sum_j w_j F_j(\\bar x, \\bar y)\n",
    "$$\n",
    "\n",
    "$$\n",
    "F_j(\\bar x, \\bar y) = \n",
    "\\sum_{i=1}^n f_j(y_{i-1}, y_i, \\bar x, i)\n",
    "$$\n",
    "\n",
    "$Z(\\bar x, w)$ is the partition function, that sums the probabilities of all possible sequences to normalize the probability:\n",
    "\n",
    "$$\n",
    "Z(x, w) = \\sum_{y' \\in Y} \\exp \\sum_{j=1} ^J w_j F_j (x, y').\n",
    "$$"
   ]
  },
  {
   "cell_type": "markdown",
   "metadata": {},
   "source": [
    "### Argmax\n",
    "\n",
    "Computing the most likely sequence $\\text{argmax}_{\\bar y} p(\\bar y | \\bar x;w)$ naively involves iterating over every possible sequence that can be built from the tag vocabulary, rendering the computation impractical for even medium sized tag-spaces.\n",
    "\n",
    "Since the scoring function only depends on 2 (consecutive in this situation) elements of $\\bar y$, argmax can be computed in polynomial time with a table ($\\in ℝ^{|Y| \\times |y|}$). $U_{ij}$ is the highest score for sequences ending in $y_i$ at position $y_j$. It is useful to compute the most likely sequence in terms of $g_i$, which sums over all lower level functions $f_j$ evaluated at position $i$:"
   ]
  },
  {
   "cell_type": "markdown",
   "metadata": {},
   "source": [
    "$$\n",
    "g_i(y_ {i-1}, y_i) = \\sum^J_{j=1} w_j f_j (y_ {i-1}, y_i, \\bar x, i)\n",
    "$$"
   ]
  },
  {
   "cell_type": "markdown",
   "metadata": {},
   "source": [
    "### Generate maximum score matrix U\n",
    "\n",
    "$$U(k, v) = \\max_u [U(k-1, u) + g_k(u,v)]$$\n",
    "$$U(1, vec) = \\max_{y_0} [U(0, y_0) + g_k(y_0,vec)]$$\n",
    "\n",
    "This implementation is pretty slow, because every low level feature function is evaluated at each $i, y_{i-1}$ and $y_i$, for each feature function $f_j$ ($\\mathcal{O}(m^2 n J )$ where $J=$ number of feature functions, $m=$ number of possible tags and $n=$ length of sequence $\\bar y$). Also, using python functions in the inner-loop is slow. This could be significantly reduced if the feature functions could be arranged such that they would only be evaluated for the relevant combinations of $x_i, y_{i-1}$ and $y_i$. I started arranging them in this way in `dependency.py`, but the complexity got a bit too unwieldy for a toy educational project. "
   ]
  },
  {
   "cell_type": "code",
   "execution_count": null,
   "metadata": {
    "collapsed": true
   },
   "outputs": [],
   "source": [
    "def init_u(m0):\n",
    "    mu = m0.mean()\n",
    "    ymax = mu.idxmax()\n",
    "    return ymax, mu[ymax]\n",
    "\n",
    "\n",
    "def init_score(tags, tag=START, sort=True):\n",
    "    \"Base case for recurrent score calculation U\"\n",
    "    i = Series(0, index=sorted(tags) if sort else tags)\n",
    "    i.loc[tag] = 1\n",
    "    return i"
   ]
  },
  {
   "cell_type": "code",
   "execution_count": null,
   "metadata": {
    "collapsed": false
   },
   "outputs": [],
   "source": [
    "def get_u(k: int=None, gf: \"int -> (Y, Y') -> float\"=None, collect=True, verbose=False) -> '([max score], [max ix])':\n",
    "    \"\"\"Recursively build up g_i matrices bottom up, adding y-1 score\n",
    "    to get max y score. Returns score.\n",
    "    - k is in terms of y vector, which is augmented with beginning and end tags\n",
    "    - also returns indices yprev that maximize y at each level to help reconstruct\n",
    "        most likely sequence\n",
    "    \"\"\"\n",
    "    pt = testprint(verbose)\n",
    "    imx = len(gf.xbar) + 1\n",
    "    if k is None:\n",
    "        pt(gf.xbar)\n",
    "        return get_u(imx, gf=gf, collect=1, verbose=verbose)\n",
    "    if k == 0:\n",
    "        return [init_score(gf.tags, START)], []\n",
    "\n",
    "    uprevs, ixprevs = get_u(k - 1, gf=gf, collect=False, verbose=verbose)\n",
    "    gmat = getmat(gf(k))\n",
    "    uadd = gmat.add(uprevs[-1], axis='index')\n",
    "    \n",
    "    if k > 0:\n",
    "        # START tag only possible at beginning.\n",
    "        # There should be a better way of imposing these constraints\n",
    "        uadd[START] = -1\n",
    "    if k < imx:\n",
    "        uadd[END] = -1  # END only possible at the...end\n",
    "    \n",
    "    if k == 1:\n",
    "        idxmax = Series(START, index=gf.tags)  # uadd.ix[START].idxmax()\n",
    "    else:\n",
    "        idxmax = uadd.idxmax()\n",
    "    pt('idxmax:', idxmax, sep='\\n')\n",
    "    retu, reti = uprevs + [uadd.max()], ixprevs + [idxmax]\n",
    "    if not collect:\n",
    "        return retu, reti\n",
    "    return s2df(retu), s2df(reti)\n",
    "\n",
    "\n",
    "def mlp(idxs, i: int=None, tagsrev: List[Y]=[END]) -> List[Y]:\n",
    "    \"Most likely sequence\"\n",
    "    if i is None:\n",
    "        return mlp(idxs, i=int(idxs.columns[-1]), tagsrev=tagsrev)\n",
    "    elif i < 0:\n",
    "        return tagsrev[::-1]\n",
    "    tag = tagsrev[-1]\n",
    "    yprev = idxs.loc[tag, i]\n",
    "    return mlp(idxs, i=i - 1, tagsrev=tagsrev + [yprev])"
   ]
  },
  {
   "cell_type": "code",
   "execution_count": null,
   "metadata": {
    "collapsed": false
   },
   "outputs": [],
   "source": [
    "def predict(xbar=None, fs=None, tags=None, ws=None, gf=None):\n",
    "    \"Return argmax_y with corresponding score\"\n",
    "    if gf is None:\n",
    "        ws = ws or mkwts1(fs)\n",
    "        gf = G(ws=ws, fs=fs, tags=tags, xbar=xbar)\n",
    "    u, i = get_u(gf=gf, collect=True, verbose=0)\n",
    "    path = mlp(i)\n",
    "    return path, u.ix[END].iloc[-1]\n",
    "    \n",
    "# path2, score2 = predict(xbar=EasyList(['wd1', 'pre-end', 'whatevs']),\n",
    "#                         fs=no_test_getu3.fs,\n",
    "#                         tags=[START, 'TAG1', 'PENULTAG', END])"
   ]
  },
  {
   "cell_type": "code",
   "execution_count": null,
   "metadata": {
    "collapsed": false
   },
   "outputs": [],
   "source": [
    "import test; reload(test); from test import *\n",
    " \n",
    "no_test_getu1(get_u, mlp)\n",
    "no_test_getu2(get_u, mlp)\n",
    "no_test_getu3(get_u, mlp)\n",
    "\n",
    "test_corp()"
   ]
  },
  {
   "cell_type": "markdown",
   "metadata": {},
   "source": [
    "##Gradient\n",
    "$$\\frac{\\partial}{\\partial w_j} \\log p(y | x;w) = F_j (x, y) - \\frac1 {Z(x, w)} \\sum_{y'} F_j (x, y') [\\exp \\sum_{j'} w_{j'} F_{j'} (x, y')]$$\n",
    "$$= F_j (x, y) - E_{y' \\sim  p(y | x;w) } [F_j(x,y')]$$\n",
    "\n",
    "\n",
    "### Forward-backward algorithm\n",
    "- Partition function $Z(\\bar x, w) = \\sum_{\\bar y} \\exp \\sum _{j=1} ^ J w_j F_j (\\bar x, \\bar y) $ can be intractible if calculated naively (similar to argmax); forward-backward vectors can make it easier to compute\n",
    "   \n",
    "$$\\alpha (k + 1,v) = \\sum_u \\alpha (k,u)[\\exp g_{k+1}(u,v)] \\in ℝ^m$$\n",
    "$$\\alpha (0,y) = I(y=START)$$\n",
    "\n",
    "$$\\beta (u, k) = \\sum_v [\\exp g_{k+1} (u, v)] \\beta(v, k+1) $$\n",
    "$$\\beta (u, n+1) = I(u= END) $$\n",
    "\n",
    "Compute partition function $Z$ from either forward or backward vectors\n",
    "\n",
    "$$ Z(\\bar x, w) = \\beta(START, 0) $$\n",
    "$$ Z(\\bar x, w) = \\alpha(n+1, END) $$\n",
    "\n",
    "[There seems to be an error in the notes, which state that $Z(\\bar x, w) = \\sum_v \\alpha(n, v) $. If this is the case, $Z$ calculated with $\\alpha$ will never get a contribution from $g_{n+1}$, while $Z$ calculated with $\\beta$ will in the $\\beta(u, n)$ step.]"
   ]
  },
  {
   "cell_type": "markdown",
   "metadata": {},
   "source": [
    "Check correctness of forward and backward vectors.\n",
    "- $ Z(\\bar x, w) = \\beta(START, 0) = \\alpha(n+1, END) $\n",
    "- For all positions $k=0...n+1$, $\\sum_u \\alpha(k, u) \\beta(u, k) = Z(\\bar x, w)$"
   ]
  },
  {
   "cell_type": "code",
   "execution_count": null,
   "metadata": {
    "collapsed": true
   },
   "outputs": [],
   "source": [
    "def mk_asum(gf, vb=False):\n",
    "    n = len(gf.xbar)\n",
    "    tags = gf.tags\n",
    "    p = testprint(vb)\n",
    "    \n",
    "    @memoize\n",
    "    def get_asum(knext=None):\n",
    "        if knext is None:\n",
    "            # The first use of the forward vectors is to write\n",
    "            return get_asum(n+1)\n",
    "        if knext < 0:\n",
    "            raise ValueError('k ({}) cannot be negative'.format(k))\n",
    "        if knext == 0:\n",
    "            return init_score(tags, tag=START)\n",
    "        k = knext - 1\n",
    "        gnext = gf(knext).mat\n",
    "        ak = get_asum(k)\n",
    "\n",
    "        if vb:\n",
    "            names = 'exp[g{k1}] g{k1} a_{k}'.format(k1=knext, k=k).split()\n",
    "            p(side_by_side(np.exp(gnext), gnext, ak, names=names))\n",
    "        # expsum = Series([sum([ak[u] * np.exp(gnext.loc[u, v]) for u in tags]) for v in tags], index=tags)\n",
    "        # vectorizing is much faster:\n",
    "        expsum = np.exp(gnext).mul(ak, axis=0).sum(axis=0)\n",
    "        return expsum\n",
    "    return get_asum  #(knext, vb=vb)\n",
    "\n",
    "\n",
    "def mk_bsum(gf, vb=False):\n",
    "    p = testprint(vb)\n",
    "    n = len(gf.xbar)\n",
    "    tags = gf.tags\n",
    "    \n",
    "    @memoize\n",
    "    def get_bsum(k=None):\n",
    "        if k is None:\n",
    "            return get_bsum(0)\n",
    "        if k > n + 1:\n",
    "            raise ValueError('{} > length of x {} + 1'.format(k, n))\n",
    "        if k == n + 1:\n",
    "            return init_score(gf.tags, tag=END)\n",
    "        gnext = gf(k + 1).mat\n",
    "        bnext = get_bsum(k + 1)\n",
    "        if vb:\n",
    "            names = ['exp[g{}]'.format(k+1), 'g{}'.format(k+1), 'b_{}'.format(k+1)]\n",
    "            p(side_by_side(np.exp(gnext), gnext, bnext, names=names))\n",
    "        # expsum = Series([sum([np.exp(gnext.loc[u, v]) * bnext[v] for v in tags]) for u in tags], index=tags)\n",
    "        expsum = np.exp(gnext).mul(bnext, axis=1).sum(axis=1)\n",
    "        return expsum\n",
    "    return get_bsum"
   ]
  },
  {
   "cell_type": "code",
   "execution_count": null,
   "metadata": {
    "collapsed": false
   },
   "outputs": [],
   "source": [
    "def test_fwd_bkwd():\n",
    "    tgs = [START, 'TAG1', END]\n",
    "    x = EasyList(['wd1', 'pre-end'])\n",
    "    fs = {\n",
    "        # 'eq_wd1': mk_word_tag('wd1', 'TAG1'),\n",
    "        'pre_endx': lambda yp, y, x, i: (x[i - 1] == 'pre-end') and (y == END)\n",
    "         }\n",
    "    ws = z.merge(mkwts1(fs), {'pre_endx': 1})\n",
    "    gf = G(fs=fs, tags=tgs, xbar=x, ws=ws)\n",
    "\n",
    "    amkr = mk_asum(gf)\n",
    "    bmkr = mk_bsum(gf)\n",
    "    za = amkr().END\n",
    "    zb = bmkr().START\n",
    "    assert za == zb\n",
    "    \n",
    "    for k in range(len(x) + 2):\n",
    "        assert amkr(k) @ bmkr(k) == za\n",
    "    return za\n",
    "    \n",
    "test_fwd_bkwd()"
   ]
  },
  {
   "cell_type": "markdown",
   "metadata": {},
   "source": [
    "### Calculate expected value of feature function\n",
    "Weighted by conditional probability of $y'$ given $x$\n",
    "\n",
    "$$\n",
    "E_{\\bar y \\sim  p(\\bar y | \\bar x;w) } [F_j(\\bar  x, \\bar y)] =\n",
    "\\sum _{i=1} ^n \\sum _{y_{i-1}} \\sum _{y_i}\n",
    "    f_j(y_{i-1}, y_i, \\bar x, i)\n",
    "    \\frac {\\alpha (i-1, y_{i-1})\n",
    "    [\\exp g_i(y_{i-1}, y_i)]\n",
    "    \\beta(y_i, i)\n",
    "    }\n",
    "    {Z(\\bar x, w)}\n",
    "$$"
   ]
  },
  {
   "cell_type": "code",
   "execution_count": null,
   "metadata": {
    "collapsed": false
   },
   "outputs": [],
   "source": [
    "def sdot(s1: Series, s2: Series):\n",
    "    d1, d2 = s1.values[:, None], s2.values[:, None]\n",
    "    return d1 @ d2.T\n",
    "#     return DataFrame(d1 @ d2.T, columns=s1.index, index=s2.index)"
   ]
  },
  {
   "cell_type": "code",
   "execution_count": null,
   "metadata": {
    "collapsed": false
   },
   "outputs": [],
   "source": [
    "def expectation2(gf, fj):\n",
    "    \"Faster matrix multiplication version\"\n",
    "    tags = gf.tags\n",
    "    n = len(gf.xbar)\n",
    "    ss = 0\n",
    "    ss2 = 0\n",
    "    asummer = mk_asum(gf)\n",
    "    bsummer = mk_bsum(gf)\n",
    "    \n",
    "    za = partition(asummer=asummer)\n",
    "    global α, β, alpha_vec, beta_vec, gfix, smat\n",
    "    \n",
    "    def sumi(i):\n",
    "        gfix = np.exp(gf(i).mat.values)\n",
    "        alpha_vec = asummer(i - 1)\n",
    "        beta_vec = bsummer(i)\n",
    "        fmat = np.array([[fj(yprev, y, gf.xbar, i) for y in tags] for yprev in tags])\n",
    "        smat = sdot(alpha_vec, beta_vec) * gfix * fmat\n",
    "        return smat.sum() #.sum()\n",
    "    \n",
    "    return sum([sumi(i) for i in range(1, n + 2)]) / za\n",
    "\n",
    "def expectation_(gf, fj):\n",
    "    \"Slow, looping version\"\n",
    "    n = len(gf.xbar)\n",
    "    ss = 0\n",
    "    za = get_asum(gf).END\n",
    "\n",
    "    for i in range(1, n + 2):\n",
    "        gfix = np.exp(gf(i).mat)\n",
    "        alpha_vec = get_asum(gf, i - 1)\n",
    "        beta_vec = get_bsum(gf, i)\n",
    "        ss += sum(\n",
    "                [fj(yprev, y, gf.xbar, i) * alpha_vec[yprev] * gfix.loc[yprev, y] * beta_vec[y]\n",
    "                for yprev in tgs\n",
    "            for y in tgs])\n",
    "    return ss / za"
   ]
  },
  {
   "cell_type": "markdown",
   "metadata": {},
   "source": [
    "    %time expectation2(gf, gfsub.fs['ly_VBZ'])\n",
    "    %prun -qD profexp.prof expectation2(gf, gfsub.fs['ly_VBZ'])\n",
    "\n",
    "    %prun -qD profexp.prof train(Zstrn, gfsub, maxiter=1, tol=.005)"
   ]
  },
  {
   "cell_type": "markdown",
   "metadata": {},
   "source": [
    "##Partial derivative\n",
    "###Probability function"
   ]
  },
  {
   "cell_type": "code",
   "execution_count": null,
   "metadata": {
    "collapsed": true
   },
   "outputs": [],
   "source": [
    "def partial_d(gf, fj, y, Fj=None) -> float:\n",
    "    f = fj if callable(fj) else gf.fs[fj]\n",
    "    if Fj is None:\n",
    "        Fj = FeatUtils.mk_sum(f)\n",
    "    #ex1 = expectation(gf, f)\n",
    "    ex2 = expectation2(gf, f)\n",
    "    #assert np.allclose(ex1, ex2)\n",
    "    return Fj(gf.xbar, y) - ex2\n",
    "\n",
    "\n",
    "def prob(gf, y, norm=True):\n",
    "    Fs = z.valmap(FeatUtils.mk_sum, gf.fs)\n",
    "    p = np.exp(sum([Fj(gf.xbar, y) * gf.ws[fname] for fname, Fj in Fs.items()]))\n",
    "    if not norm:\n",
    "        return p\n",
    "    za = partition(gf=gf)\n",
    "    return p / za\n",
    "     \n",
    "\n",
    "def partition(gf=None, asummer=None):\n",
    "    assert asummer or gf, 'Supply at least one argument'\n",
    "    asummer = asummer or mk_asum(gf)\n",
    "    return asummer().END"
   ]
  },
  {
   "cell_type": "markdown",
   "metadata": {},
   "source": [
    "    import autograd.numpy as np\n",
    "    def probf(f, w):\n"
   ]
  },
  {
   "cell_type": "markdown",
   "metadata": {},
   "source": [
    "    %time expectation(gf, fj)\n",
    "    %time expectation_(gf, fj)"
   ]
  },
  {
   "cell_type": "markdown",
   "metadata": {},
   "source": [
    "    %prun -qD profex.prof expectation2(gf, fj)"
   ]
  },
  {
   "cell_type": "markdown",
   "metadata": {},
   "source": [
    "%time expectation(gf, fj)"
   ]
  },
  {
   "cell_type": "code",
   "execution_count": null,
   "metadata": {
    "collapsed": true
   },
   "outputs": [],
   "source": [
    "corpus = '''Nothing seems hard here .//NN VBZ JJ RB .\n",
    "The reason is cost .//DT NN VBZ NN .\n",
    "Terms were n't disclosed .//NNS VBD RB VBN .\n",
    "Mr. Juliano really really thinks so .//NNP NNP RB RB VBZ RB .\n",
    "Mr. Bill seems dead .//NNP NNP VBZ JJ .\n",
    "Young & Rubicam 's Pact//NNP CC NNP POS NNP\n",
    "Albany escaped embarrassingly unscathed .//NNP VBD RB JJ .'''\n",
    "\n",
    "corp3 = '''Nothing seems hard//NN VBZ JJ\n",
    "The reason is//VBZ NN VBZ\n",
    "Terms were n't//UNK UNK RB\n",
    "Mr. Juliano really really thinks//NNP NNP RB\n",
    "Mr. Bill seems//NNP NNP VBZ\n",
    "Young & Rubicam//NNP VBZ NNP\n",
    "Albany escaped embarrassingly//NNP UNK RB'''\n",
    "\n",
    "def mk_fx_tag(fx, tag):\n",
    "    def f(yp_, y, x, i):\n",
    "        return x[i] and fx(x[i]) and (y == tag)\n",
    "    f.__name__ = '{}(x)_{}'.format(fx, tag)\n",
    "    f.__doc__ = '{}(x[i]) and (y == {})'.format(fx, tag)\n",
    "    return f\n",
    "\n",
    "\n",
    "def mkgf(x=None, corpus=corpus):\n",
    "    xs, ys = process_corpus(corpus)\n",
    "    zs = zip(xs, ys)\n",
    "    tgs = sorted({y for ybar in ys for y in ybar.aug})\n",
    "\n",
    "    iscapped = lambda x: x and x[0].isupper()\n",
    "    fs = dict(\n",
    "        seems_VBZ=mk_word_tag('seems', 'VBZ'),\n",
    "        ly_VBZ=lambda yp, y, x, i: x[i] and x[i].endswith('ly') and (y == 'RB'),\n",
    "        cap_NN=mk_fx_tag(iscapped, 'NN'),\n",
    "        cap_NNP=mk_fx_tag(iscapped, 'NNP'),\n",
    "        nocap_START=lambda yp, y, x, i: x[i] and not iscapped(x[i]) and (yp == START),\n",
    "    #     cap_NN=lambda yp, y, x, i: iscapped(x[i]) and (y == 'NN'),\n",
    "    )\n",
    "    return G(fs=fs, tags=tgs, xbar=x or xs[-1], ws=mkwts1(fs, 1)), ys, zs\n",
    "\n",
    "def test_corp():\n",
    "    gf, _, zs = mkgf(x=None, corpus=corpus)\n",
    "    Fs = z.valmap(FeatUtils.mk_sum, gf.fs)\n",
    "    \n",
    "    def runFs(Fj, zs=zs):\n",
    "        return [Fj(x, y) for x, y in zs]\n",
    "    \n",
    "    assert sum(runFs(Fs['ly_VBZ'])) == 3\n",
    "    assert sum(runFs(Fs['cap_NNP'])) == 8\n",
    "    assert sum(runFs(Fs['cap_NN'])) == 1\n",
    "    assert not sum(runFs(Fs['nocap_START']))"
   ]
  },
  {
   "cell_type": "markdown",
   "metadata": {},
   "source": [
    "## Test Partial"
   ]
  },
  {
   "cell_type": "markdown",
   "metadata": {
    "collapsed": false
   },
   "source": [
    "    Fs = z.valmap(FeatUtils.mk_sum, gf.fs)\n",
    "    Fs\n",
    "    Fj = Fs['ly_VBZ']\n",
    "    Fj(gf.xbar, ybar)\n",
    "    ybase = ys3[-1].aug[1:-1]\n",
    "    ybase\n",
    "    yars = [[t] + ybase for t in gf.tags]\n",
    "    tgs = sorted(set(gf.tags) - {START, END})"
   ]
  },
  {
   "cell_type": "markdown",
   "metadata": {},
   "source": [
    "## All length-3 sequences"
   ]
  },
  {
   "cell_type": "markdown",
   "metadata": {
    "collapsed": true
   },
   "source": [
    "    gf, ys3, zs3 = mkgf(corpus=corp3)\n",
    "    fj = gf.fs['ly_VBZ']\n",
    "    # partial_d(gf, fj, ys[-1], Fj=None)\n",
    "    Y3 = [AugmentY([y1, y2, y3]) for y1 in tgs for y2 in tgs for y3 in tgs ]\n",
    "\n",
    "\n",
    "    # list(enumerate(Y3))\n",
    "    ybar = Y3[105]\n",
    "    ybar\n",
    "    prob(gf, ybar, norm=False)\n",
    "\n",
    "\n",
    "    Y3[:2]\n",
    "\n",
    "\n",
    "    asummer = mk_asum(gf)\n",
    "    side_by_side(asummer(0), asummer(1), asummer(2), asummer(3), asummer(4), )\n",
    "\n",
    "    def gcalc(gf, ybar):\n",
    "        return np.exp(sum([gf(i)(yp, y) for i, yp, y in zip(count(1), ybar.aug, ybar.aug[1:-1])]))\n",
    "\n",
    "    gpart = sum(gcalc(gf, y) for y in Y3)\n",
    "    ps = sum([prob(gf, y, norm=False) for y in Y3])\n",
    "    assert gpart == ps\n",
    "\n",
    "    side_by_side(gf(0).mat, np.exp(gf(0).mat), )\n",
    "\n",
    "    nudge = lambda x, eps=.001: x + eps\n",
    "    p1 = lambda x: x + 1\n",
    "    bump = z.partial(nudge, eps=-.001)\n",
    "\n",
    "    zs = zip(*process_corpus(corpus))\n",
    "    for xi, yi in zs:\n",
    "        gf, _ = mkgf(x=xi)\n",
    "        for j in gf.fs:\n",
    "    #         print(j)\n",
    "            ws2 = z.update_in(gf.ws, [j], bump)\n",
    "            gf2 = gf._replace(ws=ws2)\n",
    "            break\n",
    "\n",
    "    print('ly in gf.xbar?:', any(map(lambda x: x.endswith('ly'), gf.xbar)))\n",
    "    j\n",
    "\n",
    "    gf.diff(gf2)"
   ]
  },
  {
   "cell_type": "markdown",
   "metadata": {},
   "source": [
    "### Train"
   ]
  },
  {
   "cell_type": "markdown",
   "metadata": {
    "collapsed": true
   },
   "source": [
    "gf = G(fs=fs, tags=tgs, xbar=x, ws=ws)"
   ]
  },
  {
   "cell_type": "code",
   "execution_count": null,
   "metadata": {
    "collapsed": true
   },
   "outputs": [],
   "source": [
    "gf, ys, zs = mkgf(corpus=corpus)\n",
    "fj = gf.fs['ly_VBZ']"
   ]
  },
  {
   "cell_type": "code",
   "execution_count": null,
   "metadata": {
    "collapsed": false
   },
   "outputs": [],
   "source": [
    "λ = 1\n",
    "\n",
    "\n",
    "def train_(zs: List[Tuple[EasyList, AugmentY]],\n",
    "          fjid='ly_VBZ', fs=None, ws=None, vb=True, tgs=None):\n",
    "    fj = fs[fjid]\n",
    "    Fj = FeatUtils.mk_sum(fj)\n",
    "    pt = testprint(vb)\n",
    "    for x, y in zs:\n",
    "        gf_ = G(fs=fs, tags=tgs, xbar=x, ws=ws)\n",
    "        if not Fj(x, y):  # TODO: is this always right?\n",
    "            continue\n",
    "#         print(gf)\n",
    "#         print(gf_)\n",
    "        pder = partial_d(gf_, fj, y, Fj=Fj)\n",
    "        wj0 = ws[fjid]\n",
    "        ws[fjid] += λ * pder\n",
    "        pt('wj: {} -> {}'.format(wj0, ws[fjid]))\n",
    "        pt('pder: {:.2f}'.format(pder), Fj(x, y))\n",
    "    return ws\n",
    "\n",
    "def train_j(zs: List[Tuple[EasyList, AugmentY]],\n",
    "          fjid='ly_VBZ', fs=None, ws=None, tol=.01, maxiter=10, vb=True, tgs=None):\n",
    "    ws1 = ws\n",
    "    pt = testprint(vb)\n",
    "    \n",
    "    for i in count(1):\n",
    "        pt('Iter', i)\n",
    "        wj1 = ws1[fjid]\n",
    "        ws2 = train_(zs, fjid=fjid, fs=fs, ws=ws1, vb=vb, tgs=tgs)\n",
    "        wj2 = ws2[fjid]\n",
    "        if abs((wj2 - wj1) / wj1) < tol or (i >= maxiter):\n",
    "            return ws, i\n",
    "        ws1 = ws2\n",
    "        \n",
    "def train(zs, gf, ws=None, tol=.001, maxiter=10, vb=False):\n",
    "    wst = (ws or gf.ws).copy()\n",
    "    for fname, f in gf.fs.items():\n",
    "        wst, i = train_j(zs, fjid=fname, fs=gf.fs, ws=wst, tol=tol, maxiter=maxiter, vb=vb, tgs=gf.tags)\n",
    "        print(fname, 'trained in', i, 'iters: {:.2f}'.format(wst[fname]))\n",
    "        sys.stdout.flush()\n",
    "    return wst\n",
    "\n",
    "# %time ws1c = train(zs, gf, mkwts1(gf.fs, 1), maxiter=100, tol=.005)"
   ]
  },
  {
   "cell_type": "markdown",
   "metadata": {},
   "source": [
    "## Load data\n",
    "\n",
    "with open('data/pos.train.txt','r') as f:\n",
    "    txt = f.read() #\n",
    "sents = filter(None, [zip(*[e.split() for e in sent.splitlines()]) for sent in txt[:].split('\\n\\n')])\n",
    "X = map(itg(0), sents)\n",
    "Y_ = map(itg(1), sents)\n",
    "Xa = map(EasyList, X)\n",
    "Ya = map(AugmentY, Y_)\n",
    "tags = sorted({tag for y in Y_ for tag in y if tag.isalpha()})\n",
    "txt[:100]\n",
    "# common bigrams\n",
    "bigs = defaultdict(lambda: defaultdict(int))\n",
    "\n",
    "for y in Y_:\n",
    "    for t1, t2 in zip(y[:-1], y[1:]):\n",
    "        bigs[t1][t2] += 1\n",
    "        \n",
    "bigd = DataFrame(bigs).fillna(0)[tags].ix[tags]\n",
    "# bigd\n",
    "# sns.clustermap(bigd, annot=1, figsize=(16, 20), fmt='.0f')\n",
    "wcts_all = defaultdict(Counter)\n",
    "for xi, yi in zip(X, Y_):\n",
    "    for xw, yw in zip(xi, yi):\n",
    "        wcts_all[xw][yw] += 1\n",
    "wcts = z.valfilter(lambda x: sum(x.values()) > 4, wcts_all)\n",
    "' '.join(y)\n",
    "' '.join(tags)"
   ]
  },
  {
   "cell_type": "markdown",
   "metadata": {},
   "source": [
    "## Evaluation\n",
    "Since I'm maximizing the log-likelihood during testing, that would seem a natural measure to evaluate improvement. I'm a bit suspicious about bugs in my implementation, so I'd like to evaluate Hamming distance to see how much the predictions improve.   "
   ]
  },
  {
   "cell_type": "code",
   "execution_count": null,
   "metadata": {
    "collapsed": true
   },
   "outputs": [],
   "source": [
    "def hamming(y, ypred, norm=True):\n",
    "    sm = sum(a != b for a, b in zip(y, ypred))\n",
    "    return sm / len(y) if norm else sm"
   ]
  },
  {
   "cell_type": "code",
   "execution_count": null,
   "metadata": {
    "collapsed": true
   },
   "outputs": [],
   "source": [
    "Zs = zip(Xa, Ya)\n",
    "Zstrn = Zs[:1]\n",
    "Ztst = Zs[50:]"
   ]
  },
  {
   "cell_type": "code",
   "execution_count": null,
   "metadata": {
    "collapsed": false
   },
   "outputs": [],
   "source": [
    "for x, y in Ztst:\n",
    "    break\n",
    "x"
   ]
  },
  {
   "cell_type": "code",
   "execution_count": null,
   "metadata": {
    "collapsed": false
   },
   "outputs": [],
   "source": [
    "%timeit predict(gf=gg)"
   ]
  },
  {
   "cell_type": "code",
   "execution_count": null,
   "metadata": {
    "collapsed": false
   },
   "outputs": [],
   "source": [
    "%prun -qD pred.prof predict(gf=gg)"
   ]
  },
  {
   "cell_type": "code",
   "execution_count": null,
   "metadata": {
    "collapsed": true
   },
   "outputs": [],
   "source": [
    "import utils; reload(utils); from utils import *\n",
    "import crf; reload(crf); from crf import *"
   ]
  },
  {
   "cell_type": "code",
   "execution_count": null,
   "metadata": {
    "collapsed": true
   },
   "outputs": [],
   "source": [
    "gg = G(fs=crf.fs, tags=sorted([START, END] + tags), xbar=EasyList(x), ws=rand_weights(crf.fs))\n",
    "\n",
    "gg.Gi"
   ]
  },
  {
   "cell_type": "code",
   "execution_count": null,
   "metadata": {
    "collapsed": true
   },
   "outputs": [],
   "source": [
    "- profile predict\n",
    "    - predict will be fundamentally slow due to the naive use of feature functions"
   ]
  },
  {
   "cell_type": "code",
   "execution_count": null,
   "metadata": {
    "collapsed": true
   },
   "outputs": [],
   "source": [
    "gg = G(fs=crf.fs, tags=sorted([START, END] + tags), xbar=EasyList(x), ws=rand_weights(crf.fs))\n",
    "\n",
    "def ev(zs, score=hamming):\n",
    "    def eval(x, y):\n",
    "        g = gg._replace(xbar=EasyList(x))\n",
    "        ypred = predict(gf=g)[0]\n",
    "        return score(y.aug, ypred)\n",
    "    \n",
    "    return Series([eval(x, y) for x, y in zs])"
   ]
  },
  {
   "cell_type": "code",
   "execution_count": null,
   "metadata": {
    "collapsed": false
   },
   "outputs": [],
   "source": [
    "scores = ev(Ztst[:5])"
   ]
  },
  {
   "cell_type": "code",
   "execution_count": null,
   "metadata": {
    "collapsed": false
   },
   "outputs": [],
   "source": [
    "scores"
   ]
  },
  {
   "cell_type": "code",
   "execution_count": null,
   "metadata": {
    "collapsed": false
   },
   "outputs": [],
   "source": [
    "scores.mean()"
   ]
  },
  {
   "cell_type": "code",
   "execution_count": null,
   "metadata": {
    "collapsed": false
   },
   "outputs": [],
   "source": [
    "hamming(y.aug, ypred, 1)"
   ]
  },
  {
   "cell_type": "code",
   "execution_count": null,
   "metadata": {
    "collapsed": true
   },
   "outputs": [],
   "source": [
    "y.aug"
   ]
  },
  {
   "cell_type": "code",
   "execution_count": null,
   "metadata": {
    "collapsed": false
   },
   "outputs": [],
   "source": [
    "ypred, _ = predict(gf=gg)"
   ]
  },
  {
   "cell_type": "code",
   "execution_count": null,
   "metadata": {
    "collapsed": false
   },
   "outputs": [],
   "source": [
    "y"
   ]
  },
  {
   "cell_type": "code",
   "execution_count": null,
   "metadata": {
    "collapsed": true
   },
   "outputs": [],
   "source": [
    "gf."
   ]
  },
  {
   "cell_type": "code",
   "execution_count": null,
   "metadata": {
    "collapsed": true
   },
   "outputs": [],
   "source": [
    "tags"
   ]
  },
  {
   "cell_type": "code",
   "execution_count": null,
   "metadata": {
    "collapsed": false
   },
   "outputs": [],
   "source": []
  },
  {
   "cell_type": "code",
   "execution_count": null,
   "metadata": {
    "collapsed": true
   },
   "outputs": [],
   "source": [
    "gfsub = gf._replace(fs=dict(ly_VBZ=gf.fs['ly_VBZ']))\n",
    "gfsub = gfsub._replace(ws=rand_weights(gfsub.fs), tags=sorted(tags + [START, END]))"
   ]
  },
  {
   "cell_type": "code",
   "execution_count": null,
   "metadata": {
    "collapsed": false
   },
   "outputs": [],
   "source": [
    "%prun -qD proftrn.prof train(Zstrn, gfsub, maxiter=1, tol=.005)"
   ]
  },
  {
   "cell_type": "code",
   "execution_count": null,
   "metadata": {
    "collapsed": true
   },
   "outputs": [],
   "source": [
    "%prun -qD proftrn.prof train(Zstrn, gf._replace(tags=sorted(tags + [START, END]), ws=rand_weights(gf.fs)), maxiter=1, tol=.005)"
   ]
  },
  {
   "cell_type": "code",
   "execution_count": null,
   "metadata": {
    "collapsed": true
   },
   "outputs": [],
   "source": [
    "%time wst2b = train(Zstrn, gf._replace(tags=sorted(tags + [START, END]), ws=rand_weights(gf.fs)), maxiter=5, tol=.005)\n"
   ]
  },
  {
   "cell_type": "code",
   "execution_count": null,
   "metadata": {
    "collapsed": true
   },
   "outputs": [],
   "source": [
    "%time wst2 = train(Zstrn, gf._replace(tags=sorted(tags + [START, END]), ws=rand_weights(gf.fs)), maxiter=5, tol=.005)"
   ]
  },
  {
   "cell_type": "code",
   "execution_count": null,
   "metadata": {
    "collapsed": false
   },
   "outputs": [],
   "source": [
    "# %time wst = train(Zstrn, gf._replace(tags=sorted(tags + [START, END])), mkwts1(gf.fs, 1), maxiter=100, tol=.005)"
   ]
  },
  {
   "cell_type": "code",
   "execution_count": null,
   "metadata": {
    "collapsed": false
   },
   "outputs": [],
   "source": [
    "%time wst2 = train(Zstrn, gf._replace(tags=sorted(tags + [START, END]), ws=rand_weights(gf.fs)), maxiter=5, tol=.005)"
   ]
  },
  {
   "cell_type": "code",
   "execution_count": null,
   "metadata": {
    "collapsed": false
   },
   "outputs": [],
   "source": [
    "Ya[:2]"
   ]
  },
  {
   "cell_type": "code",
   "execution_count": null,
   "metadata": {
    "collapsed": false
   },
   "outputs": [],
   "source": [
    "gf_ = gf._replace(ws=wst2)\n",
    "for x, y in Ztst[:5]:\n",
    "    gfx = gf_._replace(xbar=x)\n",
    "    ypred, sc = predict(gf=gfx)\n",
    "    print(DataFrame(zip(gfx.xbar, ypred, y.aug)))\n",
    "#     break"
   ]
  },
  {
   "cell_type": "code",
   "execution_count": null,
   "metadata": {
    "collapsed": true
   },
   "outputs": [],
   "source": []
  },
  {
   "cell_type": "code",
   "execution_count": null,
   "metadata": {
    "collapsed": true
   },
   "outputs": [],
   "source": [
    "predict()"
   ]
  },
  {
   "cell_type": "markdown",
   "metadata": {},
   "source": [
    "wst == {'cap_NN': 5.5770337170150999,\n",
    " 'cap_NNP': 6.5795482596835342,\n",
    " 'ly_VBZ': 7.1610907498951821,\n",
    " 'nocap_START': -4.0968133029466216,\n",
    " 'seems_VBZ': 1}\n",
    " \n",
    " wst2 == {'cap_NN': 5.6535298922935278,\n",
    " 'cap_NNP': 6.6593411043988899,\n",
    " 'ly_VBZ': 7.2107462564832634,\n",
    " 'nocap_START': -4.0972608563379938,\n",
    " 'seems_VBZ': 1.8675579901499675}"
   ]
  },
  {
   "cell_type": "code",
   "execution_count": null,
   "metadata": {
    "collapsed": true
   },
   "outputs": [],
   "source": [
    "def likelihood(gf, zs, ws=None):\n",
    "    if ws:\n",
    "        gf = gf._replace(ws=ws)\n",
    "    return sum([prob(gf._replace(xbar=x), y, norm=False) for x, y in zs]) / (len(zs) * partition(gf))\n",
    "    for x, y in zs:\n",
    "        gfx = gf._replace(xbar=x, ws=ws1c)\n",
    "        print(prob(gfx, y, norm=False))"
   ]
  },
  {
   "cell_type": "code",
   "execution_count": null,
   "metadata": {
    "collapsed": false
   },
   "outputs": [],
   "source": [
    "likelihood(gf, Ztst, ws=None)"
   ]
  },
  {
   "cell_type": "code",
   "execution_count": null,
   "metadata": {
    "collapsed": false
   },
   "outputs": [],
   "source": [
    "rand_weights(gf.fs)"
   ]
  },
  {
   "cell_type": "code",
   "execution_count": null,
   "metadata": {
    "collapsed": false
   },
   "outputs": [],
   "source": [
    "partition(gf)"
   ]
  },
  {
   "cell_type": "code",
   "execution_count": null,
   "metadata": {
    "collapsed": false
   },
   "outputs": [],
   "source": [
    "likelihood(gf, Ztst, ws=ws1c)"
   ]
  },
  {
   "cell_type": "code",
   "execution_count": null,
   "metadata": {
    "collapsed": true
   },
   "outputs": [],
   "source": [
    "Xa\n",
    "Ya\n",
    "tags"
   ]
  },
  {
   "cell_type": "code",
   "execution_count": null,
   "metadata": {
    "collapsed": false
   },
   "outputs": [],
   "source": [
    "for x, y in zs:\n",
    "    gfx = gf._replace(xbar=x)\n",
    "    print(prob(gfx, y, norm=False))"
   ]
  },
  {
   "cell_type": "code",
   "execution_count": null,
   "metadata": {
    "collapsed": false
   },
   "outputs": [],
   "source": [
    "for x, y in zs:\n",
    "    gfx = gf._replace(xbar=x, ws=ws1c)\n",
    "    print(prob(gfx, y, norm=False))"
   ]
  },
  {
   "cell_type": "code",
   "execution_count": null,
   "metadata": {
    "collapsed": false
   },
   "outputs": [],
   "source": [
    "prob(gf, )"
   ]
  },
  {
   "cell_type": "code",
   "execution_count": null,
   "metadata": {
    "collapsed": false
   },
   "outputs": [],
   "source": [
    "ws1c"
   ]
  },
  {
   "cell_type": "code",
   "execution_count": null,
   "metadata": {
    "collapsed": true
   },
   "outputs": [],
   "source": [
    "train()"
   ]
  },
  {
   "cell_type": "code",
   "execution_count": null,
   "metadata": {
    "collapsed": true
   },
   "outputs": [],
   "source": [
    "train_j(zs, fjid='ly_VBZ', ws=ws)"
   ]
  },
  {
   "cell_type": "code",
   "execution_count": null,
   "metadata": {
    "collapsed": false
   },
   "outputs": [],
   "source": [
    "%time ws1 = train(zs, fs, mkwts1(fs, 1), maxiter=1)"
   ]
  },
  {
   "cell_type": "code",
   "execution_count": null,
   "metadata": {
    "collapsed": false
   },
   "outputs": [],
   "source": [
    "ws1c"
   ]
  },
  {
   "cell_type": "code",
   "execution_count": null,
   "metadata": {
    "collapsed": false
   },
   "outputs": [],
   "source": [
    "ws1"
   ]
  },
  {
   "cell_type": "code",
   "execution_count": null,
   "metadata": {
    "collapsed": false
   },
   "outputs": [],
   "source": [
    "# ws3 = train(zs, fs, mkwts1(fs, 1))\n",
    "ws3 = train(zs, fs, ws3, vb=False, maxiter=20, tol=.01)"
   ]
  },
  {
   "cell_type": "code",
   "execution_count": null,
   "metadata": {
    "collapsed": false
   },
   "outputs": [],
   "source": [
    "ws3"
   ]
  },
  {
   "cell_type": "code",
   "execution_count": null,
   "metadata": {
    "collapsed": false
   },
   "outputs": [],
   "source": [
    "ws2"
   ]
  },
  {
   "cell_type": "code",
   "execution_count": null,
   "metadata": {
    "collapsed": true
   },
   "outputs": [],
   "source": []
  },
  {
   "cell_type": "code",
   "execution_count": null,
   "metadata": {
    "collapsed": false
   },
   "outputs": [],
   "source": [
    "ws2 = train(zs, fjid='ly_VBZ', ws=ws)"
   ]
  },
  {
   "cell_type": "code",
   "execution_count": null,
   "metadata": {
    "collapsed": false
   },
   "outputs": [],
   "source": [
    "ws2"
   ]
  },
  {
   "cell_type": "code",
   "execution_count": null,
   "metadata": {
    "collapsed": false
   },
   "outputs": [],
   "source": [
    "ws3 = train(zs, fjid='ly_VBZ', ws=ws2)"
   ]
  },
  {
   "cell_type": "code",
   "execution_count": null,
   "metadata": {
    "collapsed": false
   },
   "outputs": [],
   "source": [
    "ws3"
   ]
  },
  {
   "cell_type": "code",
   "execution_count": null,
   "metadata": {
    "collapsed": true
   },
   "outputs": [],
   "source": [
    "ws2 = ws.copy"
   ]
  },
  {
   "cell_type": "code",
   "execution_count": null,
   "metadata": {
    "collapsed": false
   },
   "outputs": [],
   "source": [
    "gf.ws['ly_VBZ']"
   ]
  },
  {
   "cell_type": "code",
   "execution_count": null,
   "metadata": {
    "collapsed": false
   },
   "outputs": [],
   "source": [
    "gf.ws['ly_VBZ'] -= 1"
   ]
  },
  {
   "cell_type": "code",
   "execution_count": null,
   "metadata": {
    "collapsed": false
   },
   "outputs": [],
   "source": [
    "gf._replace(ws=z.valmap(lambda x: x + 1, ws))"
   ]
  },
  {
   "cell_type": "code",
   "execution_count": null,
   "metadata": {
    "collapsed": false
   },
   "outputs": [],
   "source": [
    "gf.ws = ws"
   ]
  },
  {
   "cell_type": "code",
   "execution_count": null,
   "metadata": {
    "collapsed": true
   },
   "outputs": [],
   "source": [
    "for Fj "
   ]
  },
  {
   "cell_type": "code",
   "execution_count": null,
   "metadata": {
    "collapsed": false
   },
   "outputs": [],
   "source": [
    "fs"
   ]
  },
  {
   "cell_type": "code",
   "execution_count": null,
   "metadata": {
    "collapsed": false
   },
   "outputs": [],
   "source": []
  },
  {
   "cell_type": "code",
   "execution_count": null,
   "metadata": {
    "collapsed": false
   },
   "outputs": [],
   "source": [
    "xs, ys"
   ]
  },
  {
   "cell_type": "code",
   "execution_count": null,
   "metadata": {
    "collapsed": true
   },
   "outputs": [],
   "source": [
    "fives = [(x, y) for x, y in zip(X, Y_) if len(x) == 5]\n",
    "fives = DataFrame(fives).applymap(' '.join)\n",
    "fives"
   ]
  },
  {
   "cell_type": "code",
   "execution_count": null,
   "metadata": {
    "collapsed": true
   },
   "outputs": [],
   "source": [
    "Series(map(len, X)).value_counts(normalize=0)"
   ]
  },
  {
   "cell_type": "markdown",
   "metadata": {},
   "source": [
    "## Extra"
   ]
  }
 ],
 "metadata": {
  "kernelspec": {
   "display_name": "Python 3",
   "language": "python",
   "name": "python3"
  },
  "language_info": {
   "codemirror_mode": {
    "name": "ipython",
    "version": 3
   },
   "file_extension": ".py",
   "mimetype": "text/x-python",
   "name": "python",
   "nbconvert_exporter": "python",
   "pygments_lexer": "ipython3",
   "version": "3.5.0"
  }
 },
 "nbformat": 4,
 "nbformat_minor": 0
}
