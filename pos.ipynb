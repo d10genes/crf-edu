{
 "cells": [
  {
   "cell_type": "markdown",
   "metadata": {},
   "source": [
    "wo crf"
   ]
  },
  {
   "cell_type": "code",
   "execution_count": null,
   "metadata": {
    "collapsed": false
   },
   "outputs": [],
   "source": [
    "from py3k_imports import * \n",
    "import project_imports3; reload(project_imports3); from project_imports3 import *\n",
    "\n",
    "import warnings\n",
    "warnings.filterwarnings('ignore')\n",
    "\n",
    "pu.psettings(pd)\n",
    "pd.options.display.width = 150   # 200\n",
    "%matplotlib inline"
   ]
  },
  {
   "cell_type": "code",
   "execution_count": null,
   "metadata": {
    "collapsed": false
   },
   "outputs": [],
   "source": [
    "%%javascript\n",
    "IPython.keyboard_manager.command_shortcuts.add_shortcut('Ctrl-k','ipython.move-selected-cell-up')\n",
    "IPython.keyboard_manager.command_shortcuts.add_shortcut('Ctrl-j','ipython.move-selected-cell-down')\n",
    "IPython.keyboard_manager.command_shortcuts.add_shortcut('Shift-m','ipython.merge-selected-cell-with-cell-after')"
   ]
  },
  {
   "cell_type": "code",
   "execution_count": null,
   "metadata": {
    "collapsed": true
   },
   "outputs": [],
   "source": [
    "from collections import defaultdict, Counter\n",
    "import inspect\n",
    "from typing import List, Dict, Tuple\n",
    "Df = Dict\n",
    "Y = str\n",
    "\n",
    "if sys.version_info.major > 2:\n",
    "    unicode = str"
   ]
  },
  {
   "cell_type": "code",
   "execution_count": null,
   "metadata": {
    "collapsed": false
   },
   "outputs": [],
   "source": [
    "Series.__matmul__ = Series.dot\n",
    "DataFrame.__matmul__ = DataFrame.dot"
   ]
  },
  {
   "cell_type": "code",
   "execution_count": null,
   "metadata": {
    "collapsed": true
   },
   "outputs": [],
   "source": [
    "def test_matmul():\n",
    "    s1, s2 = Series([1, 2, 3]), Series([1, 2, 3])\n",
    "    assert (s1 @ s2) == 14\n",
    "        \n",
    "    s = Series([1, 2])\n",
    "    d = DataFrame([[1, 1], [2, 2]])\n",
    "    assert all(s @ d == [5, 5])\n",
    "    assert_frame_equal(d @ d, DataFrame([[3, 3], [6, 6]]))\n",
    "    assert all(d @ s == [3, 6])\n",
    "test_matmul()"
   ]
  },
  {
   "cell_type": "markdown",
   "metadata": {},
   "source": [
    "from py3k_imports import *\n",
    "from project_imports3 import *\n",
    "import pandas as pd\n",
    "import seaborn as sns\n",
    "import autograd.numpy as np\n",
    "\n",
    "from operator import itemgetter as itg\n",
    "import toolz.curried as z\n",
    "from collections import OrderedDict"
   ]
  },
  {
   "cell_type": "markdown",
   "metadata": {},
   "source": [
    "## Load data"
   ]
  },
  {
   "cell_type": "code",
   "execution_count": null,
   "metadata": {
    "collapsed": true
   },
   "outputs": [],
   "source": [
    "with open('data/pos.train.txt','r') as f:\n",
    "    txt = f.read() #"
   ]
  },
  {
   "cell_type": "code",
   "execution_count": null,
   "metadata": {
    "collapsed": true
   },
   "outputs": [],
   "source": [
    "import utils; reload(utils); from utils import *\n",
    "# from utils import sum1, sum2, post_mr, mk_sum, F\n",
    "fs = AttrDict(fs)\n",
    "fsums = AttrDict(fsums)"
   ]
  },
  {
   "cell_type": "code",
   "execution_count": null,
   "metadata": {
    "collapsed": false
   },
   "outputs": [],
   "source": [
    "sents = filter(None, [zip(*[e.split() for e in sent.splitlines()]) for sent in txt[:].split('\\n\\n')])\n",
    "X = map(itg(0), sents)\n",
    "Y_ = map(itg(1), sents)\n",
    "Xa = map(EasyList, X)\n",
    "Ya = map(AugmentY, Y_)\n",
    "tags = sorted({tag for y in Y_ for tag in y if tag.isalpha()})"
   ]
  },
  {
   "cell_type": "code",
   "execution_count": null,
   "metadata": {
    "collapsed": false
   },
   "outputs": [],
   "source": [
    "txt[:100]"
   ]
  },
  {
   "cell_type": "code",
   "execution_count": null,
   "metadata": {
    "collapsed": false
   },
   "outputs": [],
   "source": [
    "# common bigrams\n",
    "bigs = defaultdict(lambda: defaultdict(int))\n",
    "\n",
    "for y in Y_:\n",
    "    for t1, t2 in zip(y[:-1], y[1:]):\n",
    "        bigs[t1][t2] += 1\n",
    "        \n",
    "bigd = DataFrame(bigs).fillna(0)[tags].ix[tags]\n",
    "# bigd\n",
    "# sns.clustermap(bigd, annot=1, figsize=(16, 20), fmt='.0f')"
   ]
  },
  {
   "cell_type": "code",
   "execution_count": null,
   "metadata": {
    "collapsed": false
   },
   "outputs": [],
   "source": [
    "wcts_all = defaultdict(Counter)\n",
    "for xi, yi in zip(X, Y_):\n",
    "    for xw, yw in zip(xi, yi):\n",
    "        wcts_all[xw][yw] += 1"
   ]
  },
  {
   "cell_type": "code",
   "execution_count": null,
   "metadata": {
    "collapsed": false
   },
   "outputs": [],
   "source": [
    "wcts = z.valfilter(lambda x: sum(x.values()) > 4, wcts_all)"
   ]
  },
  {
   "cell_type": "code",
   "execution_count": null,
   "metadata": {
    "collapsed": false
   },
   "outputs": [],
   "source": [
    "' '.join(y)"
   ]
  },
  {
   "cell_type": "code",
   "execution_count": null,
   "metadata": {
    "collapsed": false
   },
   "outputs": [],
   "source": [
    "' '.join(tags)"
   ]
  },
  {
   "cell_type": "markdown",
   "metadata": {},
   "source": [
    "## Algo\n",
    "\n",
    "$$\n",
    "p(\\bar y | \\bar x;w) =\n",
    "\\frac {1} {Z(\\bar x, w)}\n",
    "\\exp \\sum_j w_j F_j(\\bar x, \\bar y)\n",
    "$$\n",
    "\n",
    "$$\n",
    "F_j(\\bar x, \\bar y) = \n",
    "\\sum_{i=1}^n f_j(y_{i-1}, y_i, \\bar x, i)\n",
    "$$"
   ]
  },
  {
   "cell_type": "code",
   "execution_count": null,
   "metadata": {
    "collapsed": true
   },
   "outputs": [],
   "source": [
    "def eq(x):\n",
    "    return lambda y: x == y\n",
    "\n",
    "def sch(term, x=False):\n",
    "    \"Search in X or Y for term, return matching input and output\"\n",
    "    f = eq(term) if isinstance(term, (str, unicode)) else term\n",
    "    ss = X if x else Y\n",
    "    for i, s in enumerate(ss):\n",
    "        if any(f(t) for t in s):\n",
    "            yield X[i], Y_[i]"
   ]
  },
  {
   "cell_type": "markdown",
   "metadata": {
    "collapsed": false
   },
   "source": [
    "Yb = map(FeatUtils.mkbookend, Y_)"
   ]
  },
  {
   "cell_type": "markdown",
   "metadata": {
    "collapsed": true
   },
   "source": [
    "    x0 = X[0]\n",
    "    y0 = Y_[0]"
   ]
  },
  {
   "cell_type": "markdown",
   "metadata": {},
   "source": [
    "### Argmax\n",
    "\n",
    "Get $\\text{argmax}_{\\bar y} p(\\bar y | \\bar x;w)$. Since the scoring function only depends on 2 (consecutive in this situation) elements of $\\bar y$, argmax can be computed in polynomial time with a table ($\\in ℝ^{|Y| \\times |y|}$). $U_{ij}$ is the highest score for sequences ending in $y_i$ at position $y_j$."
   ]
  },
  {
   "cell_type": "markdown",
   "metadata": {},
   "source": [
    "$$\n",
    "g_i(y_ {i-1}, y_i) = \\sum^J_{j=1} w_j f_j (y_ {i-1}, y_i, \\bar x, i)\n",
    "$$"
   ]
  },
  {
   "cell_type": "markdown",
   "metadata": {
    "collapsed": true
   },
   "source": [
    "    # def gf(ws, yp, y, xbar, i):\n",
    "    #     return sum(f(yp, y, xbar, i) * ws[fn] for fn, f in fs.items())\n",
    "\n",
    "    x_ = ['Mr.', 'Doo', 'in', 'a', 'circus']\n",
    "    y_ = ['NNP', 'NNP', 'IN', 'DT', 'IN']\n",
    "\n",
    "    mkwts1 = lambda fs: z.valmap(const(1), fs)\n",
    "    ws = mkwts1(fs)\n",
    "\n",
    "    gf = mkgf(ws, fs, tags, x_)\n",
    "    # gf = mkgf(ws, fs, tags, ['Mr.', 'Happy', 'derp'])"
   ]
  },
  {
   "cell_type": "markdown",
   "metadata": {},
   "source": [
    "### Generate maximum score matrix U\n",
    "$$U(k, v) = \\max_u [U(k-1, u) + g_k(u,v)]$$\n",
    "$$U(1, vec) = \\max_{y_0} [U(0, y_0) + g_k(y_0,vec)]$$"
   ]
  },
  {
   "cell_type": "code",
   "execution_count": null,
   "metadata": {
    "collapsed": true
   },
   "outputs": [],
   "source": [
    "def init_u(m0):\n",
    "    mu = m0.mean()\n",
    "    ymax = mu.idxmax()\n",
    "    return ymax, mu[ymax]\n",
    "\n",
    "\n",
    "def init_score(tags, tag=START, sort=True):\n",
    "    \"Base case for recurrent score calculation U\"\n",
    "    i = Series(0, index=sorted(tags) if sort else tags)\n",
    "    i.loc[tag] = 1\n",
    "    return i"
   ]
  },
  {
   "cell_type": "markdown",
   "metadata": {},
   "source": [
    "    f = fs2['eq_wd1']\n",
    "    f('START', 'TAG1', xt2, 2)\n",
    "\n",
    "    F = Fs2['eq_wd2']\n",
    "    F(xt2, yt2)"
   ]
  },
  {
   "cell_type": "code",
   "execution_count": null,
   "metadata": {
    "collapsed": false
   },
   "outputs": [],
   "source": [
    "def s2df(xs: List[Series]) -> DataFrame:\n",
    "    return DataFrame({i: s for i, s in enumerate(xs)})\n",
    "\n",
    "def debugu(ufunc, gmat, uadd, gf, pt, k):\n",
    "    ufunc.gmat = gmat\n",
    "    ufunc.uadd = uadd\n",
    "    pt('\\n', k)\n",
    "    pt(gf.xbar[k], )\n",
    "    pt(gmat)\n",
    "    pt('\\nuadd')\n",
    "    pt(uadd)\n",
    "    \n",
    "def get_u(k: int=None, gf: \"int -> (Y, Y') -> float\"=None, collect=True, verbose=False) -> '([max score], [max ix])':\n",
    "    \"\"\"Recursively build up g_i matrices bottom up, adding y-1 score\n",
    "    to get max y score. Returns score.\n",
    "    - k is in terms of y vector, which is augmented with beginning and end tags\n",
    "    - also returns indices yprev that maximize y at each level to help reconstruct\n",
    "        most likely sequence\n",
    "    \"\"\"\n",
    "    pt = testprint(verbose)\n",
    "    imx = len(gf.xbar) + 1\n",
    "    if k is None:\n",
    "        pt(gf.xbar)\n",
    "        return get_u(imx, gf=gf, collect=1, verbose=verbose)\n",
    "    if k == 0:\n",
    "        return [init_score(gf.tags, START)], []\n",
    "\n",
    "    uprevs, ixprevs = get_u(k - 1, gf=gf, collect=False, verbose=verbose)\n",
    "    gmat = getmat(gf(k))\n",
    "    uadd = gmat.add(uprevs[-1], axis='index')\n",
    "    \n",
    "    if k > 0:\n",
    "        # START tag only possible at beginning.\n",
    "        # There should be a better way of imposing these constraints\n",
    "        uadd[START] = -1\n",
    "    if k < imx:\n",
    "        uadd[END] = -1  # END only possible at the...end\n",
    "    \n",
    "    if k == 1:\n",
    "        idxmax = Series(START, index=gf.tags)  # uadd.ix[START].idxmax()\n",
    "    else:\n",
    "        idxmax = uadd.idxmax()\n",
    "    pt('idxmax:', idxmax, sep='\\n')\n",
    "    retu, reti = uprevs + [uadd.max()], ixprevs + [idxmax]\n",
    "    if not collect:\n",
    "        return retu, reti\n",
    "    return s2df(retu), s2df(reti)\n",
    "\n",
    "\n",
    "def mlp(idxs, i: int=None, tagsrev: List[Y]=[END]) -> List[Y]:\n",
    "    \"Most likely sequence\"\n",
    "    if i is None:\n",
    "        return mlp(idxs, i=int(idxs.columns[-1]), tagsrev=tagsrev)\n",
    "    elif i < 0:\n",
    "        return tagsrev[::-1]\n",
    "    tag = tagsrev[-1]\n",
    "    yprev = idxs.loc[tag, i]\n",
    "    return mlp(idxs, i=i - 1, tagsrev=tagsrev + [yprev])"
   ]
  },
  {
   "cell_type": "code",
   "execution_count": null,
   "metadata": {
    "collapsed": false
   },
   "outputs": [],
   "source": [
    "import test; reload(test); from test import no_test_getu1, no_test_getu2, no_test_getu3\n",
    " \n",
    "no_test_getu1(get_u, mlp)\n",
    "no_test_getu2(get_u, mlp)\n",
    "no_test_getu3(get_u, mlp)\n",
    "None"
   ]
  },
  {
   "cell_type": "code",
   "execution_count": null,
   "metadata": {
    "collapsed": false
   },
   "outputs": [],
   "source": [
    "def side_by_side(da, db):\n",
    "    d = da.copy()\n",
    "    d2 = DataFrame(db.copy())\n",
    "    d.columns = pd.MultiIndex.from_product([['A'], list(d)])\n",
    "    d2.columns = pd.MultiIndex.from_product([['B'], list(d2)])\n",
    "    d[d2.columns] = d2\n",
    "    return d\n",
    "\n",
    "def side_by_side(*ds, names=None):\n",
    "    nms = iter(names) if names else repeat(None)\n",
    "    dmultis = [side_by_side1(d, ctr=i, name=next(nms)) for i, d in enumerate(ds)]\n",
    "    return pd.concat(dmultis, axis=1)\n",
    "\n",
    "def side_by_side1(d, ctr=1, name=None):\n",
    "    d = DataFrame(d.copy())\n",
    "    d.columns = pd.MultiIndex.from_product([[name or ctr], list(d)])\n",
    "    return d\n",
    "    \n",
    "def side_by_side_(*objs, **kwds):\n",
    "    from pandas.core.common import adjoin\n",
    "    space = kwds.get('space', 4)\n",
    "    reprs = [repr(obj).split('\\n') for obj in objs]\n",
    "    print(adjoin(space, *reprs))\n",
    "    \n",
    "def ff(m):\n",
    "    return side_by_side(m, m.idxmax(), m.max())"
   ]
  },
  {
   "cell_type": "code",
   "execution_count": null,
   "metadata": {
    "collapsed": false
   },
   "outputs": [],
   "source": [
    "def predict(xbar=None, fs=None, tags=None, ws=None):\n",
    "    \"Return argmax_y with corresponding score\"\n",
    "    ws = ws or mkwts1(fs)\n",
    "    gf = G(ws=ws, fs=fs, tags=tags, xbar=xbar)\n",
    "    u, i = get_u(gf=gf, collect=True, verbose=0)\n",
    "    path = mlp(i)\n",
    "    return path, u.ix[END].iloc[-1]\n",
    "    \n",
    "path2, score2 = predict(xbar=EasyList(['wd1', 'pre-end', 'whatevs']),\n",
    "                        fs=no_test_getu3.fs,\n",
    "                        tags=[START, 'TAG1', 'PENULTAG', END])"
   ]
  },
  {
   "cell_type": "markdown",
   "metadata": {},
   "source": [
    "##Gradient\n",
    "$$\\frac{\\partial}{\\partial w_j} \\log p(y | x;w) = F_j (x, y) - \\frac1 {Z(x, w)} \\sum_{y'} F_j (x, y') [\\exp \\sum_{j'} w_{j'} F_{j'} (x, y')]$$\n",
    "$$= F_j (x, y) - E_{y' \\sim  p(y | x;w) } [F_j(x,y')]$$\n",
    "\n",
    "\n",
    "### Forward-backward algorithm\n",
    "- Partition function $Z(\\bar x, w) = \\sum_{\\bar y} \\exp \\sum _{j=1} ^ J w_j F_j (\\bar x, \\bar y) $ can be intractible; forward-backward vectors can make it easier to compute\n",
    "   \n",
    "$$\\alpha (k + 1,v) = \\sum_u \\alpha (k,u)[\\exp g_{k+1}(u,v)] \\in ℝ^m$$\n",
    "$$\\alpha (0,y) = I(y=START)$$\n",
    "\n",
    "$$\\beta (u, k) = \\sum_v [\\exp g_{k+1} (u, v)] \\beta(v, k+1) $$\n",
    "$$\\beta (u, n+1) = I(u= END) $$\n",
    "\n",
    "Compute partition function $Z$ from either forward or backward vectors\n",
    "\n",
    "$$ Z(\\bar x, w) = \\beta(START, 0) $$\n",
    "$$ Z(\\bar x, w) = \\alpha(n+1, END) $$\n",
    "\n",
    "[There seems to be an error in the notes, which state that $Z(\\bar x, w) = \\sum_v \\alpha(n, v) $. If this is the case, $Z$ calculated with $\\alpha$ will never get a contribution from $g_{n+1}$, while $Z$ calculated with $\\beta$ will in the $\\beta(u, n)$ step.]"
   ]
  },
  {
   "cell_type": "markdown",
   "metadata": {},
   "source": [
    "Check correctness of forward and backward vectors.\n",
    "- $ Z(\\bar x, w) = \\beta(START, 0) = \\alpha(n+1, END) $\n",
    "- For all positions $k=0...n+1$, $\\sum_u \\alpha(k, u) \\beta(u, k) = Z(\\bar x, w)$"
   ]
  },
  {
   "cell_type": "code",
   "execution_count": null,
   "metadata": {
    "collapsed": true
   },
   "outputs": [],
   "source": [
    "def mk_asum(gf, vb=False):\n",
    "    n = len(gf.xbar)\n",
    "    tags = gf.tags\n",
    "    p = testprint(vb)\n",
    "    \n",
    "    @memoize\n",
    "    def get_asum(knext=None):\n",
    "        if knext is None:\n",
    "            # The first use of the forward vectors is to write\n",
    "            return get_asum(n+1)\n",
    "        if knext < 0:\n",
    "            raise ValueError('k ({}) cannot be negative'.format(k))\n",
    "        if knext == 0:\n",
    "            return init_score(tags, tag=START)\n",
    "        k = knext - 1\n",
    "        gnext = gf(knext).mat\n",
    "        ak = get_asum(k)\n",
    "\n",
    "        if vb:\n",
    "            names = 'exp[g{k1}] g{k1} a_{k}'.format(k1=knext, k=k).split()\n",
    "            p(side_by_side(np.exp(gnext), gnext, ak, names=names))\n",
    "        return Series([sum([ak[u] * np.exp(gnext.loc[u, v]) for u in tags]) for v in tags], index=tags)\n",
    "    return get_asum  #(knext, vb=vb)\n",
    "\n",
    "\n",
    "def mk_bsum(gf, vb=False):\n",
    "    p = testprint(vb)\n",
    "    n = len(gf.xbar)\n",
    "    tags = gf.tags\n",
    "    \n",
    "    @memoize\n",
    "    def get_bsum(k=None):\n",
    "        if k is None:\n",
    "            return get_bsum(0)\n",
    "        if k > n + 1:\n",
    "            raise ValueError('{} > length of x {} + 1'.format(k, n))\n",
    "        if k == n + 1:\n",
    "            return init_score(gf.tags, tag=END)\n",
    "        gnext = gf(k + 1).mat\n",
    "        bnext = get_bsum(k + 1)\n",
    "        if vb:\n",
    "            names = ['exp[g{}]'.format(k+1), 'g{}'.format(k+1), 'b_{}'.format(k+1)]\n",
    "            p(side_by_side(np.exp(gnext), gnext, bnext, names=names))\n",
    "        return Series([sum([np.exp(gnext.loc[u, v]) * bnext[v] for v in tags]) for u in tags], index=tags)\n",
    "    return get_bsum"
   ]
  },
  {
   "cell_type": "code",
   "execution_count": null,
   "metadata": {
    "collapsed": false
   },
   "outputs": [],
   "source": [
    "def test_fwd_bkwd():\n",
    "    tgs = [START, 'TAG1', END]\n",
    "    x = EasyList(['wd1', 'pre-end'])\n",
    "    fs = {\n",
    "        # 'eq_wd1': mk_word_tag('wd1', 'TAG1'),\n",
    "        'pre_endx': lambda yp, y, x, i: (x[i - 1] == 'pre-end') and (y == END)\n",
    "         }\n",
    "    ws = z.merge(mkwts1(fs), {'pre_endx': 1})\n",
    "    gf = G(fs=fs, tags=tgs, xbar=x, ws=ws)\n",
    "\n",
    "    amkr = mk_asum(gf)\n",
    "    bmkr = mk_bsum(gf)\n",
    "    za = amkr().END\n",
    "    zb = bmkr().START\n",
    "    assert za == zb\n",
    "    \n",
    "    for k in range(len(x) + 2):\n",
    "        assert amkr(k) @ bmkr(k) == za\n",
    "    return za\n",
    "    \n",
    "test_fwd_bkwd()"
   ]
  },
  {
   "cell_type": "code",
   "execution_count": null,
   "metadata": {
    "collapsed": false
   },
   "outputs": [],
   "source": []
  },
  {
   "cell_type": "markdown",
   "metadata": {},
   "source": [
    "### Calculate expected value of feature function\n",
    "Weighted by conditional probability of $y'$ given $x$\n",
    "$$E_{y' \\sim  p(y | x;w) } [F_j(x,y')]$$"
   ]
  },
  {
   "cell_type": "markdown",
   "metadata": {},
   "source": [
    "# Utils Imports"
   ]
  },
  {
   "cell_type": "code",
   "execution_count": null,
   "metadata": {
    "collapsed": false
   },
   "outputs": [],
   "source": [
    "import utils; reload(utils); from utils import *\n",
    "# from utils import sum1, sum2, post_mr, mk_sum, F\n",
    "fs = AttrDict(fs)\n",
    "fsums = AttrDict(fsums)"
   ]
  },
  {
   "cell_type": "code",
   "execution_count": null,
   "metadata": {
    "collapsed": true
   },
   "outputs": [],
   "source": [
    "k = 0\n",
    "tgs = [START, 'TAG1', END]\n",
    "x = EasyList(['wd1', 'pre-end'])\n",
    "fs = {\n",
    "#     'eq_wd1': mk_word_tag('wd1', 'TAG1'),\n",
    "    'pre_endx': lambda yp, y, x, i: (x[i - 1] == 'pre-end') and (y == END)\n",
    "     }\n",
    "yb = ['TAG1', 'TAG1']\n",
    "ybar = AugmentY(yb)\n",
    "ws = z.merge(mkwts1(fs), {'pre_endx': 1})\n",
    "# f = fs['eq_wd1']\n",
    "# gf = mkgf(ws, fs, tgs, x)\n",
    "gf = G(fs=fs, tags=tgs, xbar=x, ws=ws)"
   ]
  },
  {
   "cell_type": "code",
   "execution_count": null,
   "metadata": {
    "collapsed": true
   },
   "outputs": [],
   "source": [
    "fj = fs['pre_endx']"
   ]
  },
  {
   "cell_type": "code",
   "execution_count": null,
   "metadata": {
    "collapsed": false
   },
   "outputs": [],
   "source": [
    "def expectation(gf, fj):\n",
    "    n = len(gf.xbar)\n",
    "    ss = 0\n",
    "    asummer = mk_asum(gf)\n",
    "    bsummer = mk_bsum(gf)\n",
    "    \n",
    "    za = asummer().END\n",
    "    \n",
    "    for i in range(1, n + 2):\n",
    "        gfix = np.exp(gf(i).mat)\n",
    "        alpha_vec = asummer(i - 1)\n",
    "        beta_vec = bsummer(i)\n",
    "        # alpha_vec = get_asum(gf, i - 1)\n",
    "        # beta_vec = get_bsum(gf, i)\n",
    "        for yprev in tgs:\n",
    "            α = alpha_vec[yprev]\n",
    "            for y in tgs:\n",
    "                ff = fj(yprev, y, gf.xbar, i)\n",
    "                β = beta_vec[y]\n",
    "                gfx = gfix.loc[yprev, y]\n",
    "                ss += ff * α * β * gfx\n",
    "    return ss / za\n",
    "\n",
    "\n",
    "def expectation_(gf, fj):\n",
    "    n = len(gf.xbar)\n",
    "    ss = 0\n",
    "    za = get_asum(gf).END\n",
    "    \n",
    "\n",
    "    for i in range(1, n + 2):\n",
    "        gfix = np.exp(gf(i).mat)\n",
    "        alpha_vec = get_asum(gf, i - 1)\n",
    "        beta_vec = get_bsum(gf, i)\n",
    "        ss += sum(\n",
    "                [fj(yprev, y, gf.xbar, i) * alpha_vec[yprev] * gfix.loc[yprev, y] * beta_vec[y]\n",
    "                for yprev in tgs\n",
    "            for y in tgs])\n",
    "    return ss / za\n",
    "\n",
    "\n",
    "ee = 1\n",
    "\n",
    "# %time expectation(gf, fs['pre_endx'])\n",
    "# e1, e2"
   ]
  },
  {
   "cell_type": "code",
   "execution_count": null,
   "metadata": {
    "collapsed": false
   },
   "outputs": [],
   "source": []
  },
  {
   "cell_type": "code",
   "execution_count": null,
   "metadata": {
    "collapsed": false
   },
   "outputs": [],
   "source": [
    "gf"
   ]
  },
  {
   "cell_type": "code",
   "execution_count": null,
   "metadata": {
    "collapsed": false
   },
   "outputs": [],
   "source": [
    "%time expectation(gf, fj)"
   ]
  },
  {
   "cell_type": "code",
   "execution_count": null,
   "metadata": {
    "collapsed": false
   },
   "outputs": [],
   "source": [
    "%time expectation_(gf, fj)"
   ]
  },
  {
   "cell_type": "code",
   "execution_count": null,
   "metadata": {
    "collapsed": false
   },
   "outputs": [],
   "source": [
    "%prun -qD profex.prof expectation2(gf, fj)"
   ]
  },
  {
   "cell_type": "code",
   "execution_count": null,
   "metadata": {
    "collapsed": true
   },
   "outputs": [],
   "source": [
    "TODO: retrieve asum"
   ]
  },
  {
   "cell_type": "markdown",
   "metadata": {},
   "source": [
    "%time expectation(gf, fj)"
   ]
  },
  {
   "cell_type": "code",
   "execution_count": null,
   "metadata": {
    "collapsed": true
   },
   "outputs": [],
   "source": []
  },
  {
   "cell_type": "code",
   "execution_count": null,
   "metadata": {
    "collapsed": true
   },
   "outputs": [],
   "source": []
  },
  {
   "cell_type": "code",
   "execution_count": null,
   "metadata": {
    "collapsed": false
   },
   "outputs": [],
   "source": []
  },
  {
   "cell_type": "markdown",
   "metadata": {},
   "source": []
  },
  {
   "cell_type": "code",
   "execution_count": null,
   "metadata": {
    "collapsed": false
   },
   "outputs": [],
   "source": [
    "asm = mk_asum(gf, vb=False)\n",
    "all(asm() == get_asum(gf, knext=None, vb=False))"
   ]
  },
  {
   "cell_type": "code",
   "execution_count": null,
   "metadata": {
    "collapsed": true
   },
   "outputs": [],
   "source": [
    "get_asum(gf, knext=None, vb=False)"
   ]
  },
  {
   "cell_type": "code",
   "execution_count": null,
   "metadata": {
    "collapsed": true
   },
   "outputs": [],
   "source": [
    "get_bsum(gf, k=None, vb=False)"
   ]
  },
  {
   "cell_type": "code",
   "execution_count": null,
   "metadata": {
    "collapsed": true
   },
   "outputs": [],
   "source": [
    "bsm = mk_bsum(gf, vb=False)\n",
    "bsm()"
   ]
  },
  {
   "cell_type": "code",
   "execution_count": null,
   "metadata": {
    "collapsed": true
   },
   "outputs": [],
   "source": [
    "for i in range(len(gf.xbar) + 2):\n",
    "    print(all(get_asum(gf, knext=i, vb=False) == asm(i)))\n",
    "    "
   ]
  },
  {
   "cell_type": "code",
   "execution_count": null,
   "metadata": {
    "collapsed": true
   },
   "outputs": [],
   "source": [
    "for i in range(len(gf.xbar) + 2):\n",
    "    print(all(get_bsum(gf, k=i, vb=False) == bsm(i)))\n",
    "    "
   ]
  },
  {
   "cell_type": "code",
   "execution_count": null,
   "metadata": {
    "collapsed": true
   },
   "outputs": [],
   "source": []
  },
  {
   "cell_type": "code",
   "execution_count": null,
   "metadata": {
    "collapsed": true
   },
   "outputs": [],
   "source": [
    "gf(i)"
   ]
  },
  {
   "cell_type": "code",
   "execution_count": null,
   "metadata": {
    "collapsed": false
   },
   "outputs": [],
   "source": []
  },
  {
   "cell_type": "code",
   "execution_count": null,
   "metadata": {
    "collapsed": false
   },
   "outputs": [],
   "source": []
  },
  {
   "cell_type": "code",
   "execution_count": null,
   "metadata": {
    "collapsed": false
   },
   "outputs": [],
   "source": [
    "fj"
   ]
  },
  {
   "cell_type": "code",
   "execution_count": null,
   "metadata": {
    "collapsed": false
   },
   "outputs": [],
   "source": [
    "ag = ybar.aug\n",
    "yn = len(ag)\n",
    "nmx = yn - 1"
   ]
  },
  {
   "cell_type": "code",
   "execution_count": null,
   "metadata": {
    "collapsed": false
   },
   "outputs": [],
   "source": [
    "fj(ag[nmx - 1], ag[nmx], x, nmx)"
   ]
  },
  {
   "cell_type": "code",
   "execution_count": null,
   "metadata": {
    "collapsed": false
   },
   "outputs": [],
   "source": [
    "ag"
   ]
  },
  {
   "cell_type": "code",
   "execution_count": null,
   "metadata": {
    "collapsed": false
   },
   "outputs": [],
   "source": [
    "Fj = FeatUtils.mk_sum(fj)\n",
    "Fj(x, yb)"
   ]
  },
  {
   "cell_type": "markdown",
   "metadata": {},
   "source": [
    "## Test Partial"
   ]
  },
  {
   "cell_type": "code",
   "execution_count": null,
   "metadata": {
    "collapsed": true
   },
   "outputs": [],
   "source": [
    "def partial_d(gf, fj, x, y, Fj=None) -> float:\n",
    "    if Fj is None:\n",
    "        Fj = FeatUtils.mk_sum(fj)\n",
    "    return Fj(x, y) - expectation(gf, fj)"
   ]
  },
  {
   "cell_type": "code",
   "execution_count": null,
   "metadata": {
    "collapsed": true
   },
   "outputs": [],
   "source": [
    "partial_d(gf, fj, x, y, Fj=None)"
   ]
  },
  {
   "cell_type": "code",
   "execution_count": null,
   "metadata": {
    "collapsed": true
   },
   "outputs": [],
   "source": [
    "def process_corpus(corpus, sep='//'):\n",
    "    psplit = lambda f: (lambda xs: map(z.comp(f, str.split), xs))\n",
    "    linepairs = z.comp(z.map(mc('split', sep)), str.splitlines)(corpus)\n",
    "    xs_, ys_ = zip(*linepairs)\n",
    "    xs, ys = psplit(EasyList)(xs_), psplit(AugmentY)(ys_)\n",
    "    return xs, ys "
   ]
  },
  {
   "cell_type": "code",
   "execution_count": null,
   "metadata": {
    "collapsed": false
   },
   "outputs": [],
   "source": [
    "corpus = '''Nothing seems hard here .//NN VBZ JJ RB .\n",
    "The reason is cost .//DT NN VBZ NN .\n",
    "Terms were n't disclosed .//NNS VBD RB VBN .\n",
    "Mr. Juliano really really thinks so .//NNP NNP RB RB VBZ RB .\n",
    "Mr. Bill seems dead .//NNP NNP VBZ JJ .\n",
    "Young & Rubicam 's Pact//NNP CC NNP POS NNP\n",
    "Albany escaped embarrassingly unscathed .//NNP VBD RB JJ .'''"
   ]
  },
  {
   "cell_type": "code",
   "execution_count": null,
   "metadata": {
    "collapsed": false
   },
   "outputs": [],
   "source": [
    "Xa[:2]\n",
    "Ya[:2]"
   ]
  },
  {
   "cell_type": "code",
   "execution_count": null,
   "metadata": {
    "collapsed": true
   },
   "outputs": [],
   "source": [
    "def mk_fx_tag(fx, tag):\n",
    "    def f(yp_, y, x, i):\n",
    "        return x[i] and fx(x[i]) and (y == tag)\n",
    "    f.__name__ = '{}(x)_{}'.format(fx, tag)\n",
    "    f.__doc__ = '{}(x[i]) and (y == {})'.format(fx, tag)\n",
    "    return f\n",
    "\n",
    "\n",
    "\n",
    "def mkgf(x=None, corpus=corpus):\n",
    "    xs, ys = process_corpus(corpus)\n",
    "    zs = zip(xs, ys)\n",
    "    \n",
    "    def runFs(Fj, zs=zs):\n",
    "        return [Fj(x, y) for x, y in zs]\n",
    "\n",
    "    tgs = sorted({y for ybar in ys for y in ybar.aug})\n",
    "\n",
    "    iscapped = lambda x: x and x[0].isupper()\n",
    "    fs = dict(\n",
    "        seems_VBZ=mk_word_tag('seems', 'VBZ'),\n",
    "        ly_VBZ=lambda yp, y, x, i: x[i] and x[i].endswith('ly') and (y == 'RB'),\n",
    "        cap_NN=mk_fx_tag(iscapped, 'NN'),\n",
    "        cap_NNP=mk_fx_tag(iscapped, 'NNP'),\n",
    "        nocap_START=lambda yp, y, x, i: x[i] and not iscapped(x[i]) and (yp == START),\n",
    "    #     cap_NN=lambda yp, y, x, i: iscapped(x[i]) and (y == 'NN'),\n",
    "    )\n",
    "    Fs = z.valmap(FeatUtils.mk_sum, fs)\n",
    "\n",
    "    assert sum(runFs(Fs['ly_VBZ'])) == 3\n",
    "    assert sum(runFs(Fs['cap_NNP'])) == 8\n",
    "    assert sum(runFs(Fs['cap_NN'])) == 1\n",
    "    assert not sum(runFs(Fs['nocap_START']))\n",
    "    return G(fs=fs, tags=tgs, xbar=x or xs[-1], ws=mkwts1(fs, 1))"
   ]
  },
  {
   "cell_type": "code",
   "execution_count": null,
   "metadata": {
    "collapsed": false
   },
   "outputs": [],
   "source": [
    "xs"
   ]
  },
  {
   "cell_type": "code",
   "execution_count": null,
   "metadata": {
    "collapsed": false
   },
   "outputs": [],
   "source": [
    "mkgf()"
   ]
  },
  {
   "cell_type": "code",
   "execution_count": null,
   "metadata": {
    "collapsed": false
   },
   "outputs": [],
   "source": [
    "gf"
   ]
  },
  {
   "cell_type": "code",
   "execution_count": null,
   "metadata": {
    "collapsed": true
   },
   "outputs": [],
   "source": [
    "gf = G(fs=fs, tags=tgs, xbar=x, ws=ws)"
   ]
  },
  {
   "cell_type": "code",
   "execution_count": null,
   "metadata": {
    "collapsed": false
   },
   "outputs": [],
   "source": [
    "FeatUtils.bookend = False"
   ]
  },
  {
   "cell_type": "code",
   "execution_count": null,
   "metadata": {
    "collapsed": false
   },
   "outputs": [],
   "source": [
    "%prun -qD prof.prof partial_d(gf, fj, x, y, Fj=None)"
   ]
  },
  {
   "cell_type": "code",
   "execution_count": null,
   "metadata": {
    "collapsed": false
   },
   "outputs": [],
   "source": [
    "λ = 1\n",
    "fj = fs['ly_VBZ']\n",
    "# Fj = Fs['ly_VBZ']\n",
    "\n",
    "def train_(zs: List[Tuple[EasyList, AugmentY]],\n",
    "          fjid='ly_VBZ', ws=ws, vb=True, tgs=tgs):\n",
    "    fj = fs[fjid]\n",
    "    Fj = FeatUtils.mk_sum(fj)\n",
    "    pt = testprint(vb)\n",
    "    for x, y in zs:\n",
    "        gf = G(fs=fs, tags=tgs, xbar=x, ws=ws)\n",
    "        if not Fj(x, y):  # TODO: is this always right?\n",
    "            continue\n",
    "        pder = partial_d(gf, fj, x, y, Fj=Fj)\n",
    "        wj0 = ws[fjid]\n",
    "        ws[fjid] += λ * pder\n",
    "        pt('wj: {} -> {}'.format(wj0, ws[fjid]))\n",
    "        pt('pder: {:.2f}'.format(pder), Fj(x, y))\n",
    "    return ws\n",
    "\n",
    "def train_j(zs: List[Tuple[EasyList, AugmentY]],\n",
    "          fjid='ly_VBZ', ws=ws, tol=.01, maxiter=10, vb=True, tgs=tgs):\n",
    "    ws1 = ws\n",
    "    pt = testprint(vb)\n",
    "    \n",
    "    for i in count(1):\n",
    "        pt('Iter', i)\n",
    "        wj1 = ws1[fjid]\n",
    "        ws2 = train_(zs, fjid=fjid, ws=ws1, vb=vb, tgs=tgs)\n",
    "        wj2 = ws2[fjid]\n",
    "        if abs((wj2 - wj1) / wj1) < tol or (i >= maxiter):\n",
    "            return ws, i\n",
    "        ws1 = ws2\n",
    "        \n",
    "def train(zs, fs, ws, tol=.001, maxiter=10, vb=False, tgs=tgs):\n",
    "    wst = ws.copy()\n",
    "    for fname, f in fs.items():\n",
    "        wst, i = train_j(zs, fjid=fname, ws=wst, tol=tol, maxiter=maxiter, vb=vb, tgs=tgs)\n",
    "        print(fname, 'trained in', i, 'iters: {:.2f}'.format(wst[fname]))\n",
    "        sys.stdout.flush()\n",
    "    return wst"
   ]
  },
  {
   "cell_type": "code",
   "execution_count": null,
   "metadata": {
    "collapsed": true
   },
   "outputs": [],
   "source": [
    "train_j(zs, fjid='ly_VBZ', ws=ws)"
   ]
  },
  {
   "cell_type": "code",
   "execution_count": null,
   "metadata": {
    "collapsed": false
   },
   "outputs": [],
   "source": [
    "%time ws1c = train(zs, fs, mkwts1(fs, 1), maxiter=1)"
   ]
  },
  {
   "cell_type": "code",
   "execution_count": null,
   "metadata": {
    "collapsed": false
   },
   "outputs": [],
   "source": [
    "%time ws1 = train(zs, fs, mkwts1(fs, 1), maxiter=1)"
   ]
  },
  {
   "cell_type": "code",
   "execution_count": null,
   "metadata": {
    "collapsed": false
   },
   "outputs": [],
   "source": [
    "ws1c"
   ]
  },
  {
   "cell_type": "code",
   "execution_count": null,
   "metadata": {
    "collapsed": false
   },
   "outputs": [],
   "source": [
    "ws1"
   ]
  },
  {
   "cell_type": "code",
   "execution_count": null,
   "metadata": {
    "collapsed": false
   },
   "outputs": [],
   "source": [
    "# ws3 = train(zs, fs, mkwts1(fs, 1))\n",
    "ws3 = train(zs, fs, ws3, vb=False, maxiter=20, tol=.01)"
   ]
  },
  {
   "cell_type": "code",
   "execution_count": null,
   "metadata": {
    "collapsed": false
   },
   "outputs": [],
   "source": [
    "ws3"
   ]
  },
  {
   "cell_type": "code",
   "execution_count": null,
   "metadata": {
    "collapsed": false
   },
   "outputs": [],
   "source": [
    "ws2"
   ]
  },
  {
   "cell_type": "code",
   "execution_count": null,
   "metadata": {
    "collapsed": true
   },
   "outputs": [],
   "source": []
  },
  {
   "cell_type": "code",
   "execution_count": null,
   "metadata": {
    "collapsed": false
   },
   "outputs": [],
   "source": [
    "ws2 = train(zs, fjid='ly_VBZ', ws=ws)"
   ]
  },
  {
   "cell_type": "code",
   "execution_count": null,
   "metadata": {
    "collapsed": false
   },
   "outputs": [],
   "source": [
    "ws2"
   ]
  },
  {
   "cell_type": "code",
   "execution_count": null,
   "metadata": {
    "collapsed": false
   },
   "outputs": [],
   "source": [
    "ws3 = train(zs, fjid='ly_VBZ', ws=ws2)"
   ]
  },
  {
   "cell_type": "code",
   "execution_count": null,
   "metadata": {
    "collapsed": false
   },
   "outputs": [],
   "source": [
    "ws3"
   ]
  },
  {
   "cell_type": "code",
   "execution_count": null,
   "metadata": {
    "collapsed": true
   },
   "outputs": [],
   "source": [
    "ws2 = ws.copy"
   ]
  },
  {
   "cell_type": "code",
   "execution_count": null,
   "metadata": {
    "collapsed": false
   },
   "outputs": [],
   "source": [
    "gf.ws['ly_VBZ']"
   ]
  },
  {
   "cell_type": "code",
   "execution_count": null,
   "metadata": {
    "collapsed": false
   },
   "outputs": [],
   "source": [
    "gf.ws['ly_VBZ'] -= 1"
   ]
  },
  {
   "cell_type": "code",
   "execution_count": null,
   "metadata": {
    "collapsed": false
   },
   "outputs": [],
   "source": [
    "gf._replace(ws=z.valmap(lambda x: x + 1, ws))"
   ]
  },
  {
   "cell_type": "code",
   "execution_count": null,
   "metadata": {
    "collapsed": false
   },
   "outputs": [],
   "source": [
    "gf.ws = ws"
   ]
  },
  {
   "cell_type": "code",
   "execution_count": null,
   "metadata": {
    "collapsed": true
   },
   "outputs": [],
   "source": [
    "for Fj "
   ]
  },
  {
   "cell_type": "code",
   "execution_count": null,
   "metadata": {
    "collapsed": false
   },
   "outputs": [],
   "source": [
    "fs"
   ]
  },
  {
   "cell_type": "code",
   "execution_count": null,
   "metadata": {
    "collapsed": false
   },
   "outputs": [],
   "source": []
  },
  {
   "cell_type": "code",
   "execution_count": null,
   "metadata": {
    "collapsed": false
   },
   "outputs": [],
   "source": [
    "xs, ys"
   ]
  },
  {
   "cell_type": "code",
   "execution_count": null,
   "metadata": {
    "collapsed": true
   },
   "outputs": [],
   "source": [
    "fives = [(x, y) for x, y in zip(X, Y_) if len(x) == 5]\n",
    "fives = DataFrame(fives).applymap(' '.join)\n",
    "fives"
   ]
  },
  {
   "cell_type": "code",
   "execution_count": null,
   "metadata": {
    "collapsed": true
   },
   "outputs": [],
   "source": [
    "Series(map(len, X)).value_counts(normalize=0)"
   ]
  },
  {
   "cell_type": "markdown",
   "metadata": {},
   "source": [
    "## Extra"
   ]
  }
 ],
 "metadata": {
  "kernelspec": {
   "display_name": "Python 3",
   "language": "python",
   "name": "python3"
  },
  "language_info": {
   "codemirror_mode": {
    "name": "ipython",
    "version": 3
   },
   "file_extension": ".py",
   "mimetype": "text/x-python",
   "name": "python",
   "nbconvert_exporter": "python",
   "pygments_lexer": "ipython3",
   "version": "3.5.0"
  }
 },
 "nbformat": 4,
 "nbformat_minor": 0
}
