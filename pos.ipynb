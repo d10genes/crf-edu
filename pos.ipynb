{
 "cells": [
  {
   "cell_type": "code",
   "execution_count": null,
   "metadata": {
    "collapsed": false
   },
   "outputs": [],
   "source": [
    "from py3k_imports import *\n",
    "import project_imports3; reload(project_imports3); from project_imports3 import *\n",
    "\n",
    "# import warnings\n",
    "# warnings.filterwarnings('ignore')\n",
    "\n",
    "pu.psettings(pd)\n",
    "pd.options.display.width = 200  # 150"
   ]
  },
  {
   "cell_type": "markdown",
   "metadata": {},
   "source": [
    "from py3k_imports import *\n",
    "from project_imports3 import *\n",
    "import pandas as pd\n",
    "import seaborn as sns\n",
    "import autograd.numpy as np\n",
    "\n",
    "from operator import itemgetter as itg\n",
    "import toolz.curried as z\n",
    "from collections import OrderedDict"
   ]
  },
  {
   "cell_type": "markdown",
   "metadata": {},
   "source": [
    "# Viterbi\n",
    "From [here](http://homepages.ulb.ac.be/~dgonze/TEACHING/viterbi.pdf)\n",
    "\n",
    "s = StringIO()\n",
    "states2.to_csv(s)\n",
    "s.seek(0)\n",
    "sc = s.read()"
   ]
  },
  {
   "cell_type": "markdown",
   "metadata": {},
   "source": [
    "    from io import StringIO\n",
    "    csvstr = ''',H,L\n",
    "    A,0.2,0.3\n",
    "    C,0.3,0.2\n",
    "    G,0.3,0.2\n",
    "    T,0.2,0.3'''\n",
    "    states = pd.read_csv(StringIO(csvstr), index_col=0).T\n",
    "\n",
    "    sts = list(states.index)\n",
    "    start = [.5, .5]\n",
    "    transition = DataFrame([[.5, .5], [.4, .6]], columns=Series(sts, name='To'), index=Series(sts, name='From'))\n"
   ]
  },
  {
   "cell_type": "code",
   "execution_count": null,
   "metadata": {
    "collapsed": false
   },
   "outputs": [],
   "source": [
    "start = [.5, .5]\n",
    "state_names = ['H', 'L']\n",
    "obs_names = list('ACGT')\n",
    "transition = DataFrame([[.5, .5], [.4, .6]],\n",
    "                       columns=Series(state_names, name='To'),\n",
    "                       index=Series(state_names, name='From'))\n",
    "states = DataFrame(\n",
    "    [[0.2, 0.3, 0.3, 0.2],\n",
    "     [0.3, 0.2, 0.2, 0.3]], index=state_names, columns=obs_names)\n",
    "\n",
    "log = np.log2\n",
    "startL, transitionL, statesL = map(log, [start, transition, states])"
   ]
  },
  {
   "cell_type": "code",
   "execution_count": null,
   "metadata": {
    "collapsed": false
   },
   "outputs": [],
   "source": [
    "def build_table(s, startL, statesL, transitionL, convert_log=False):\n",
    "    \"\"\"\n",
    "    s: observed sequence\n",
    "    startL: initial state probabilities\n",
    "    statesL: p(obs_j | hidden state_i)\n",
    "    transitionL: p(transition to state_j|state_i)\n",
    "    \n",
    "    \"\"\"\n",
    "    if convert_log:\n",
    "        startL, statesL, transitionL = map(np.log, [startL, statesL, transitionL])\n",
    "    prev_path = DataFrame()\n",
    "    probs = DataFrame({0: startL + statesL[s[0]]})\n",
    "\n",
    "    for i, l in enumerate(s[1:], 1):\n",
    "        tocur = transitionL.add(probs[i-1], axis='index')  # p(current_state | each possible prev. state)\n",
    "        prev_path[i-1] = tocur.idxmax()\n",
    "        probs[i] = tocur.max() + statesL[l]  # p(current_state | most likely prev. state) * p(z|current_state)\n",
    "    return probs, prev_path\n",
    "\n",
    "def most_likely_path(probs, prev_path):\n",
    "    final_likely_state = probs.iloc[:, -1].idxmax()\n",
    "    backwards_path = [final_likely_state]\n",
    "\n",
    "    for c in reversed(list(prev_path)):\n",
    "        backwards_path.append(prev_path[c].ix[backwards_path[-1]])\n",
    "    mlp = backwards_path[::-1]\n",
    "    return mlp\n",
    "\n",
    "probs, prev_path = build_table('GGCACTGAA', startL, statesL, transitionL)\n",
    "mlp = most_likely_path(probs, prev_path)\n",
    "mlp"
   ]
  },
  {
   "cell_type": "markdown",
   "metadata": {},
   "source": [
    "## Load data"
   ]
  },
  {
   "cell_type": "code",
   "execution_count": null,
   "metadata": {
    "collapsed": true
   },
   "outputs": [],
   "source": [
    "with open('data/pos.train.txt','r') as f:\n",
    "    txt = f.read() #"
   ]
  },
  {
   "cell_type": "code",
   "execution_count": null,
   "metadata": {
    "collapsed": false
   },
   "outputs": [],
   "source": [
    "sents = filter(None, [zip(*[e.split() for e in sent.splitlines()]) for sent in txt[:].split('\\n\\n')])\n",
    "X = map(itg(0), sents)\n",
    "Y = map(itg(1), sents)\n",
    "tags = sorted({tag for y in Y for tag in y if tag.isalpha()})"
   ]
  },
  {
   "cell_type": "code",
   "execution_count": null,
   "metadata": {
    "collapsed": false
   },
   "outputs": [],
   "source": [
    "txt[:100]"
   ]
  },
  {
   "cell_type": "code",
   "execution_count": null,
   "metadata": {
    "collapsed": false
   },
   "outputs": [],
   "source": [
    "' '.join(tags)"
   ]
  },
  {
   "cell_type": "markdown",
   "metadata": {},
   "source": [
    "## Algo\n",
    "\n",
    "$$\n",
    "p(\\bar y | \\bar x;w) =\n",
    "\\frac {1} {Z(\\bar x, w)}\n",
    "\\exp \\sum_j w_j F_j(\\bar x, \\bar y)\n",
    "$$\n",
    "\n",
    "$$\n",
    "F_j(\\bar x, \\bar y) = \n",
    "\\sum_{i=1}^n f_j(y_{i-1}, y_i, \\bar x, i)\n",
    "$$\n"
   ]
  },
  {
   "cell_type": "code",
   "execution_count": null,
   "metadata": {
    "collapsed": true
   },
   "outputs": [],
   "source": [
    "def enum(x):\n",
    "    return (i for i, _ in enumerate(x[:-1], 1))"
   ]
  },
  {
   "cell_type": "code",
   "execution_count": null,
   "metadata": {
    "collapsed": false
   },
   "outputs": [],
   "source": [
    "def mkfeature_deco():\n",
    "    def high_feature(low):\n",
    "        @wraps(low)\n",
    "        def hi(xbar, ybar):\n",
    "            return sum(low(ybar[i - 1], ybar[i], xbar, i) for i in enum(xbar))\n",
    "        hi.low = low\n",
    "        high_feature.fs.append(hi)\n",
    "        return hi\n",
    "    fs = high_feature.fs = []  # OrderedDict()\n",
    "    return high_feature\n",
    "\n",
    "high_feature = mkfeature_deco()\n",
    "\n",
    "@high_feature\n",
    "def is_capped(yp, y, x, i):\n",
    "    return x[i][0].isupper()\n",
    "\n",
    "@high_feature\n",
    "def has_period(yp, y, x, i):\n",
    "    return '.' in x[i]\n",
    "\n",
    "@high_feature\n",
    "def noun_capped(yp, y, x, i):\n",
    "    return y == 'NN' and x[i][0].isupper()\n",
    "\n",
    "# fs = [is_capped, has_period, noun_capped]\n",
    "ws = np.ones_like(high_feature.fs)"
   ]
  },
  {
   "cell_type": "code",
   "execution_count": null,
   "metadata": {
    "collapsed": true
   },
   "outputs": [],
   "source": [
    "x = X[0]\n",
    "y = Y[0]"
   ]
  },
  {
   "cell_type": "code",
   "execution_count": null,
   "metadata": {
    "collapsed": true
   },
   "outputs": [],
   "source": [
    "def mkgi(xbar, ws, i):\n",
    "    def gi(ybar):\n",
    "        print(i-1, i)\n",
    "        return sum([f.low(ybar[i-1], ybar[i], xbar, i) * w for f, w in izip(fs, ws)])\n",
    "    return gi"
   ]
  },
  {
   "cell_type": "code",
   "execution_count": null,
   "metadata": {
    "collapsed": true
   },
   "outputs": [],
   "source": [
    "[mkgi(x, ws, i)(y) for i in enum(x)]"
   ]
  },
  {
   "cell_type": "code",
   "execution_count": null,
   "metadata": {
    "collapsed": false
   },
   "outputs": [],
   "source": [
    "x"
   ]
  },
  {
   "cell_type": "code",
   "execution_count": null,
   "metadata": {
    "collapsed": false
   },
   "outputs": [],
   "source": [
    "y"
   ]
  },
  {
   "cell_type": "code",
   "execution_count": null,
   "metadata": {
    "collapsed": false
   },
   "outputs": [],
   "source": [
    "mkgi(x, ws, 1)(y)"
   ]
  },
  {
   "cell_type": "code",
   "execution_count": null,
   "metadata": {
    "collapsed": true
   },
   "outputs": [],
   "source": []
  },
  {
   "cell_type": "code",
   "execution_count": null,
   "metadata": {
    "collapsed": true
   },
   "outputs": [],
   "source": [
    "y"
   ]
  },
  {
   "cell_type": "code",
   "execution_count": null,
   "metadata": {
    "collapsed": false
   },
   "outputs": [],
   "source": [
    "high_feature.fs.values()"
   ]
  },
  {
   "cell_type": "markdown",
   "metadata": {},
   "source": [
    "### Argmax\n",
    "$\\newcommand{\\argmin}{\\operatornamewithlimits{argmin}}$\n",
    "Get $\\text{argmax}_{\\bar y} p(\\bar y | \\bar x;w) $\n",
    "\n"
   ]
  },
  {
   "cell_type": "code",
   "execution_count": null,
   "metadata": {
    "collapsed": true
   },
   "outputs": [],
   "source": []
  },
  {
   "cell_type": "markdown",
   "metadata": {},
   "source": [
    "## Extra"
   ]
  },
  {
   "cell_type": "code",
   "execution_count": null,
   "metadata": {
    "collapsed": false
   },
   "outputs": [],
   "source": [
    "t = '''$3,275 Individual $6,550 Family\n",
    "$2,000 Individual $4,000 Family\n",
    "$2,000 Individual $4,000 Family\n",
    "'''.splitlines()\n",
    "x = map(str.split, t)\n",
    "i = z.pipe(x, z.map(itg(0)), '\\t'.join)\n",
    "# i = map(itg(0), x)\n",
    "# f = map(itg(2), x)\n",
    "f\n",
    "i"
   ]
  },
  {
   "cell_type": "code",
   "execution_count": null,
   "metadata": {
    "collapsed": true
   },
   "outputs": [],
   "source": []
  }
 ],
 "metadata": {
  "kernelspec": {
   "display_name": "Python 3",
   "language": "python",
   "name": "python3"
  },
  "language_info": {
   "codemirror_mode": {
    "name": "ipython",
    "version": 3
   },
   "file_extension": ".py",
   "mimetype": "text/x-python",
   "name": "python",
   "nbconvert_exporter": "python",
   "pygments_lexer": "ipython3",
   "version": "3.4.3"
  }
 },
 "nbformat": 4,
 "nbformat_minor": 0
}
