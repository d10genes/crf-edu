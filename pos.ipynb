{
 "cells": [
  {
   "cell_type": "markdown",
   "metadata": {},
   "source": [
    "This is less of a blog post, and more of my annotated progress in implementing CRF's based on Charles Elkan's very excellent [video](http://videolectures.net/cikm08_elkan_llmacrf/) and [pdf](http://cseweb.ucsd.edu/~elkan/250Bwinter2012/loglinearCRFs.pdf) tutorials to get a better understanding of log-linear models.\n",
    "\n",
    "This notebook contains a bunch of the core functions, though there are also some in `crf.py`. The full repo is [here](https://github.com/d10genes/crf-edu)."
   ]
  },
  {
   "cell_type": "code",
   "execution_count": 1,
   "metadata": {
    "collapsed": false
   },
   "outputs": [],
   "source": [
    "import warnings; warnings.filterwarnings('ignore')\n",
    "from py3k_imports import * \n",
    "from project_imports3 import *\n",
    "\n",
    "pu.psettings(pd)\n",
    "pd.options.display.width = 150   # 200\n",
    "%matplotlib inline"
   ]
  },
  {
   "cell_type": "code",
   "execution_count": 2,
   "metadata": {
    "collapsed": false
   },
   "outputs": [
    {
     "data": {
      "application/javascript": [
       "IPython.keyboard_manager.command_shortcuts.add_shortcut('Ctrl-k','ipython.move-selected-cell-up')\n",
       "IPython.keyboard_manager.command_shortcuts.add_shortcut('Ctrl-j','ipython.move-selected-cell-down')\n",
       "IPython.keyboard_manager.command_shortcuts.add_shortcut('Shift-m','ipython.merge-selected-cell-with-cell-after')"
      ],
      "text/plain": [
       "<IPython.core.display.Javascript object>"
      ]
     },
     "metadata": {},
     "output_type": "display_data"
    }
   ],
   "source": [
    "%%javascript\n",
    "IPython.keyboard_manager.command_shortcuts.add_shortcut('Ctrl-k','ipython.move-selected-cell-up')\n",
    "IPython.keyboard_manager.command_shortcuts.add_shortcut('Ctrl-j','ipython.move-selected-cell-down')\n",
    "IPython.keyboard_manager.command_shortcuts.add_shortcut('Shift-m','ipython.merge-selected-cell-with-cell-after')"
   ]
  },
  {
   "cell_type": "code",
   "execution_count": 3,
   "metadata": {
    "collapsed": true
   },
   "outputs": [],
   "source": [
    "from collections import defaultdict, Counter\n",
    "import inspect\n",
    "from typing import List, Dict, Tuple\n",
    "Df = Dict\n",
    "Y = str\n",
    "\n",
    "if sys.version_info.major > 2:\n",
    "    unicode = str"
   ]
  },
  {
   "cell_type": "code",
   "execution_count": 4,
   "metadata": {
    "collapsed": false
   },
   "outputs": [],
   "source": [
    "import utils; from utils import *\n",
    "import crf; from crf import *\n",
    "FeatUtils.bookend = False"
   ]
  },
  {
   "cell_type": "code",
   "execution_count": 5,
   "metadata": {
    "collapsed": false
   },
   "outputs": [],
   "source": [
    "Series.__matmul__ = Series.dot\n",
    "DataFrame.__matmul__ = DataFrame.dot\n",
    "\n",
    "from matmul_new import test_matmul\n",
    "test_matmul()"
   ]
  },
  {
   "cell_type": "markdown",
   "metadata": {},
   "source": [
    "## Probabilistic model\n",
    "\n",
    "Given a sequence $\\bar x$, the linear chain CRF model gives the probability of a corresponding sequence $\\bar y$ as follows, for feature functions $F_j$, where each $F_j$ is a sum of a corresponding lower level feature function $f_j$ over every element of the sequence:\n",
    "\n",
    "$$\n",
    "p(\\bar y | \\bar x;w) =\n",
    "\\frac {1} {Z(\\bar x, w)}\n",
    "\\exp \\sum_j w_j F_j(\\bar x, \\bar y)\n",
    "$$\n",
    "\n",
    "$$\n",
    "F_j(\\bar x, \\bar y) = \n",
    "\\sum_{i=1}^n f_j(y_{i-1}, y_i, \\bar x, i)\n",
    "$$\n",
    "\n",
    "$Z(\\bar x, w)$ is the partition function, that sums the probabilities of all possible sequences to normalize it to a proper probability:\n",
    "\n",
    "$$\n",
    "Z(x, w) = \\sum_{y' \\in Y} \\exp \\sum_{j=1} ^J w_j F_j (x, y').\n",
    "$$\n",
    "\n",
    "This way of summing feature functions along a sequence can be seen as a way of extending logistic regression from a single (or multiclass) output to a model that outputs sequences."
   ]
  },
  {
   "cell_type": "markdown",
   "metadata": {},
   "source": [
    "### Argmax\n",
    "\n",
    "Computing the most likely sequence $\\text{argmax}_{\\bar y} p(\\bar y | \\bar x;w)$ naively involves iterating through the exponentially large space of every possible sequence that can be built from the tag vocabulary, rendering the computation impractical for even medium sized tag-spaces.\n",
    "\n",
    "Since the scoring function only depends on 2 (consecutive in this situation) elements of $\\bar y$, argmax can be computed in polynomial time with a table ($\\in ℝ^{|Y| \\times |y|}$). $U_{ij}$ is the highest score for sequences ending in $y_i$ at position $y_j$. It is useful to compute the most likely sequence in terms of $g_i$, which sums over all lower level functions $f_j$ evaluated at position $i$:"
   ]
  },
  {
   "cell_type": "markdown",
   "metadata": {},
   "source": [
    "$$\n",
    "g_i(y_ {i-1}, y_i) = \\sum^J_{j=1} w_j f_j (y_ {i-1}, y_i, \\bar x, i)\n",
    "$$"
   ]
  },
  {
   "cell_type": "markdown",
   "metadata": {},
   "source": [
    "### Generate maximum score matrix U\n",
    "\n",
    "$$U(k, v) = \\max_u [U(k-1, u) + g_k(u,v)]$$\n",
    "$$U(1, vec) = \\max_{y_0} [U(0, y_0) + g_k(y_0,vec)]$$\n",
    "\n",
    "This implementation is pretty slow, because every low level feature function is evaluated at each $i, y_{i-1}$ and $y_i$, for each feature function $f_j$ ($\\mathcal{O}(m^2 n J )$ where $J=$ number of feature functions, $m=$ number of possible tags and $n=$ length of sequence $\\bar y$). Also, using python functions in the inner-loop is slow. This could be significantly reduced if the feature functions could be arranged such that they would only be evaluated for the relevant combinations of $x_i, y_{i-1}$ and $y_i$. I started arranging them in this way in `dependency.py`, but the complexity got a bit too unwieldy for a toy educational project. "
   ]
  },
  {
   "cell_type": "code",
   "execution_count": 6,
   "metadata": {
    "collapsed": true
   },
   "outputs": [],
   "source": [
    "def init_score(tags, tag=START, sort=True):\n",
    "    \"Base case for recurrent score calculation U\"\n",
    "    i = Series(0, index=sorted(tags) if sort else tags)\n",
    "    i.loc[tag] = 1\n",
    "    return i\n",
    "\n",
    "\n",
    "def get_u(k: int=None, gf: \"int -> (Y, Y') -> float\"=None, collect=True,\n",
    "          verbose=False) -> '([max score], [max ix])':\n",
    "    \"\"\"Recursively build up g_i matrices bottom up, adding y-1 score\n",
    "    to get max y score. Returns score.\n",
    "    - k is in terms of y vector, which is augmented with beginning\n",
    "        and end tags\n",
    "    - also returns indices yprev that maximize y at each level to\n",
    "        help reconstruct tmost likely sequence\n",
    "    \"\"\"\n",
    "    pt = testprint(verbose)\n",
    "    imx = len(gf.xbar) + 1\n",
    "    if k is None:\n",
    "        pt(gf.xbar)\n",
    "        return get_u(imx, gf=gf, collect=1, verbose=verbose)\n",
    "    if k == 0:\n",
    "        return [init_score(gf.tags, START)], []\n",
    "\n",
    "    uprevs, ixprevs = get_u(k - 1, gf=gf, collect=False, verbose=verbose)\n",
    "    gmat = getmat(gf(k))\n",
    "    uadd = gmat.add(uprevs[-1], axis='index')\n",
    "    \n",
    "    if k > 0:\n",
    "        # START tag only possible at beginning.\n",
    "        # There should be a better way of imposing these constraints\n",
    "        uadd[START] = -1\n",
    "    if k < imx:\n",
    "        uadd[END] = -1  # END only possible at the...end\n",
    "    \n",
    "    if k == 1:\n",
    "        idxmax = Series(START, index=gf.tags)  # uadd.ix[START].idxmax()\n",
    "    else:\n",
    "        idxmax = uadd.idxmax()\n",
    "    pt('idxmax:', idxmax, sep='\\n')\n",
    "    retu, reti = uprevs + [uadd.max()], ixprevs + [idxmax]\n",
    "    if not collect:\n",
    "        return retu, reti\n",
    "    return s2df(retu), s2df(reti)\n",
    "\n",
    "\n",
    "def mlp(idxs, i: int=None, tagsrev: List[Y]=[END]) -> List[Y]:\n",
    "    \"Most likely sequence\"\n",
    "    if i is None:\n",
    "        return mlp(idxs, i=int(idxs.columns[-1]), tagsrev=tagsrev)\n",
    "    elif i < 0:\n",
    "        return tagsrev[::-1]\n",
    "    tag = tagsrev[-1]\n",
    "    yprev = idxs.loc[tag, i]\n",
    "    return mlp(idxs, i=i - 1, tagsrev=tagsrev + [yprev])"
   ]
  },
  {
   "cell_type": "code",
   "execution_count": 7,
   "metadata": {
    "collapsed": false
   },
   "outputs": [],
   "source": [
    "def predict(xbar=None, fs=None, tags=None, ws=None, gf=None):\n",
    "    \"Return argmax_y with corresponding score\"\n",
    "    if gf is None:\n",
    "        ws = ws or mkwts1(fs)\n",
    "        gf = G(ws=ws, fs=fs, tags=tags, xbar=xbar)\n",
    "    u, i = get_u(gf=gf, collect=True, verbose=0)\n",
    "    path = mlp(i)\n",
    "    return path, u.ix[END].iloc[-1]\n",
    "    \n",
    "# path2, score2 = predict(xbar=EasyList(['wd1', 'pre-end', 'whatevs']),\n",
    "#                         fs=no_test_getu3.fs,\n",
    "#                         tags=[START, 'TAG1', 'PENULTAG', END])"
   ]
  },
  {
   "cell_type": "code",
   "execution_count": 8,
   "metadata": {
    "collapsed": false
   },
   "outputs": [],
   "source": [
    "import test; reload(test); from test import *\n",
    " \n",
    "no_test_getu1(get_u, mlp)\n",
    "no_test_getu2(get_u, mlp)\n",
    "no_test_getu3(get_u, mlp)\n",
    "\n",
    "test_corp()"
   ]
  },
  {
   "cell_type": "markdown",
   "metadata": {},
   "source": [
    "##Gradient\n",
    "$$\\frac{\\partial}{\\partial w_j} \\log p(y | x;w) = F_j (x, y) - \\frac1 {Z(x, w)} \\sum_{y'} F_j (x, y') [\\exp \\sum_{j'} w_{j'} F_{j'} (x, y')]$$\n",
    "$$= F_j (x, y) - E_{y' \\sim  p(y | x;w) } [F_j(x,y')]$$\n",
    "\n",
    "\n",
    "### Forward-backward algorithm\n",
    "- Partition function $Z(\\bar x, w) = \\sum_{\\bar y} \\exp \\sum _{j=1} ^ J w_j F_j (\\bar x, \\bar y) $ can be intractible if calculated naively (similar to argmax); forward-backward vectors can make it easier to compute\n",
    "   \n",
    "$$\\alpha (k + 1,v) = \\sum_u \\alpha (k,u)[\\exp g_{k+1}(u,v)] \\in ℝ^m$$\n",
    "$$\\alpha (0,y) = I(y=START)$$\n",
    "\n",
    "$$\\beta (u, k) = \\sum_v [\\exp g_{k+1} (u, v)] \\beta(v, k+1) $$\n",
    "$$\\beta (u, n+1) = I(u= END) $$\n",
    "\n",
    "Compute partition function $Z$ from either forward or backward vectors\n",
    "\n",
    "$$ Z(\\bar x, w) = \\beta(START, 0) $$\n",
    "$$ Z(\\bar x, w) = \\alpha(n+1, END) $$\n",
    "\n",
    "[It seems there could be an error in the notes, which state that $Z(\\bar x, w) = \\sum_v \\alpha(n, v) $. If this is the case, $Z$ calculated with $\\alpha$ will never get a contribution from $g_{n+1}$, while $Z$ calculated with $\\beta$ will in the $\\beta(u, n)$ step.]"
   ]
  },
  {
   "cell_type": "markdown",
   "metadata": {},
   "source": [
    "Check correctness of forward and backward vectors.\n",
    "- $ Z(\\bar x, w) = \\beta(START, 0) = \\alpha(n+1, END) $\n",
    "- For all positions $k=0...n+1$, $\\sum_u \\alpha(k, u) \\beta(u, k) = Z(\\bar x, w)$"
   ]
  },
  {
   "cell_type": "code",
   "execution_count": 9,
   "metadata": {
    "collapsed": true
   },
   "outputs": [],
   "source": [
    "def mk_asum(gf, vb=False):\n",
    "    n = len(gf.xbar)\n",
    "    tags = gf.tags\n",
    "    p = testprint(vb)\n",
    "    \n",
    "    @memoize\n",
    "    def get_asum(knext=None):\n",
    "        if knext is None:\n",
    "            # The first use of the forward vectors is to write\n",
    "            return get_asum(n+1)\n",
    "        if knext < 0:\n",
    "            raise ValueError('k ({}) cannot be negative'.format(k))\n",
    "        if knext == 0:\n",
    "            return init_score(tags, tag=START)\n",
    "        k = knext - 1\n",
    "        gnext = gf(knext).mat\n",
    "        ak = get_asum(k)\n",
    "\n",
    "        if vb:\n",
    "            names = 'exp[g{k1}] g{k1} a_{k}'.format(k1=knext, k=k).split()\n",
    "            p(side_by_side(np.exp(gnext), gnext, ak, names=names))\n",
    "        # expsum = Series([sum([ak[u] * np.exp(gnext.loc[u, v])\n",
    "        #            for u in tags]) for v in tags], index=tags)\n",
    "        # vectorizing is much faster:\n",
    "        expsum = np.exp(gnext).mul(ak, axis=0).sum(axis=0)\n",
    "        return expsum\n",
    "    return get_asum  #(knext, vb=vb)\n",
    "\n",
    "\n",
    "def mk_bsum(gf, vb=False):\n",
    "    p = testprint(vb)\n",
    "    n = len(gf.xbar)\n",
    "    tags = gf.tags\n",
    "    \n",
    "    @memoize\n",
    "    def get_bsum(k=None):\n",
    "        if k is None:\n",
    "            return get_bsum(0)\n",
    "        if k > n + 1:\n",
    "            raise ValueError('{} > length of x {} + 1'.format(k, n))\n",
    "        if k == n + 1:\n",
    "            return init_score(gf.tags, tag=END)\n",
    "        gnext = gf(k + 1).mat\n",
    "        bnext = get_bsum(k + 1)\n",
    "        if vb:\n",
    "            names = ['exp[g{}]'.format(k+1),'g{}'.format(k+1),\n",
    "                     'b_{}'.format(k+1)]\n",
    "            p(side_by_side(np.exp(gnext), gnext, bnext, names=names))\n",
    "        # expsum = Series([sum([np.exp(gnext.loc[u, v]) * bnext[v]\n",
    "        # for v in tags]) for u in tags], index=tags)\n",
    "        expsum = np.exp(gnext).mul(bnext, axis=1).sum(axis=1)\n",
    "        return expsum\n",
    "    return get_bsum"
   ]
  },
  {
   "cell_type": "code",
   "execution_count": 10,
   "metadata": {
    "collapsed": false
   },
   "outputs": [
    {
     "data": {
      "text/plain": [
       "24.464536456131405"
      ]
     },
     "execution_count": 10,
     "metadata": {},
     "output_type": "execute_result"
    }
   ],
   "source": [
    "def test_fwd_bkwd():\n",
    "    tgs = [START, 'TAG1', END]\n",
    "    x = EasyList(['wd1', 'pre-end'])\n",
    "    fs = {\n",
    "        # 'eq_wd1': mk_word_tag('wd1', 'TAG1'),\n",
    "        'pre_endx': lambda yp, y, x, i: ((x[i - 1] == 'pre-end')\n",
    "                                         and (y == END))\n",
    "    }\n",
    "    ws = z.merge(mkwts1(fs), {'pre_endx': 1})\n",
    "    gf = G(fs=fs, tags=tgs, xbar=x, ws=ws)\n",
    "\n",
    "    amkr = mk_asum(gf)\n",
    "    bmkr = mk_bsum(gf)\n",
    "    za = amkr().END\n",
    "    zb = bmkr().START\n",
    "    assert za == zb\n",
    "    \n",
    "    for k in range(len(x) + 2):\n",
    "        assert amkr(k) @ bmkr(k) == za\n",
    "    return za\n",
    "    \n",
    "test_fwd_bkwd()"
   ]
  },
  {
   "cell_type": "markdown",
   "metadata": {},
   "source": [
    "### Calculate expected value of feature function\n",
    "Weighted by conditional probability of $y'$ given $x$\n",
    "\n",
    "$$\n",
    "E_{\\bar y \\sim  p(\\bar y | \\bar x;w) } [F_j(\\bar  x, \\bar y)] =\n",
    "\\sum _{i=1} ^n \\sum _{y_{i-1}} \\sum _{y_i}\n",
    "    f_j(y_{i-1}, y_i, \\bar x, i)\n",
    "    \\frac {\\alpha (i-1, y_{i-1})\n",
    "    [\\exp g_i(y_{i-1}, y_i)]\n",
    "    \\beta(y_i, i)\n",
    "    }\n",
    "    {Z(\\bar x, w)}\n",
    "$$"
   ]
  },
  {
   "cell_type": "code",
   "execution_count": 11,
   "metadata": {
    "collapsed": false
   },
   "outputs": [],
   "source": [
    "def sdot(s1: Series, s2: Series):\n",
    "    \"\"\"It's quite a bit faster to get the dot product\n",
    "    of raw numpy arrays rather than of the Series\"\"\"\n",
    "    d1, d2 = s1.values[:, None], s2.values[:, None]\n",
    "    return d1 @ d2.T"
   ]
  },
  {
   "cell_type": "code",
   "execution_count": 12,
   "metadata": {
    "collapsed": false
   },
   "outputs": [],
   "source": [
    "def expectation2(gf, fj):\n",
    "    \"Faster matrix multiplication version\"\n",
    "    tags = gf.tags\n",
    "    n = len(gf.xbar)\n",
    "    ss = 0\n",
    "    ss2 = 0\n",
    "    asummer = mk_asum(gf)\n",
    "    bsummer = mk_bsum(gf)\n",
    "    \n",
    "    za = partition(asummer=asummer)\n",
    "    global α, β, alpha_vec, beta_vec, gfix, smat\n",
    "    \n",
    "    def sumi(i):\n",
    "        gfix = np.exp(gf(i).mat.values)\n",
    "        alpha_vec = asummer(i - 1)\n",
    "        beta_vec = bsummer(i)\n",
    "        fmat = np.array([[fj(yprev, y, gf.xbar, i) for y in tags]\n",
    "                         for yprev in tags])\n",
    "        smat = sdot(alpha_vec, beta_vec) * gfix * fmat\n",
    "        return smat.sum() #.sum()\n",
    "    \n",
    "    return sum([sumi(i) for i in range(1, n + 2)]) / za\n",
    "\n",
    "def expectation_(gf, fj):\n",
    "    \"Slow, looping version\"\n",
    "    n = len(gf.xbar)\n",
    "    ss = 0\n",
    "    za = get_asum(gf).END\n",
    "\n",
    "    for i in range(1, n + 2):\n",
    "        gfix = np.exp(gf(i).mat)\n",
    "        alpha_vec = get_asum(gf, i - 1)\n",
    "        beta_vec = get_bsum(gf, i)\n",
    "        ss += sum(\n",
    "                [fj(yprev, y, gf.xbar, i) * alpha_vec[yprev]\n",
    "                 * gfix.loc[yprev, y] * beta_vec[y]\n",
    "                for yprev in tgs\n",
    "            for y in tgs])\n",
    "    return ss / za"
   ]
  },
  {
   "cell_type": "markdown",
   "metadata": {},
   "source": [
    "##Partial derivative\n",
    "###Probability function"
   ]
  },
  {
   "cell_type": "code",
   "execution_count": 13,
   "metadata": {
    "collapsed": true
   },
   "outputs": [],
   "source": [
    "def partial_d(gf, fj, y, Fj=None) -> float:\n",
    "    f = fj if callable(fj) else gf.fs[fj]\n",
    "    if Fj is None:\n",
    "        Fj = FeatUtils.mk_sum(f)\n",
    "    #ex1 = expectation(gf, f)\n",
    "    ex2 = expectation2(gf, f)\n",
    "    #assert np.allclose(ex1, ex2)\n",
    "    return Fj(gf.xbar, y) - ex2\n",
    "\n",
    "\n",
    "def prob(gf, y, norm=True):\n",
    "    Fs = z.valmap(FeatUtils.mk_sum, gf.fs)\n",
    "    p = np.exp(sum([Fj(gf.xbar, y) * gf.ws[fname]\n",
    "                    for fname, Fj in Fs.items()]))\n",
    "    if not norm:\n",
    "        return p\n",
    "    za = partition(gf=gf)\n",
    "    return p / za\n",
    "     \n",
    "\n",
    "def partition(gf=None, asummer=None):\n",
    "    assert asummer or gf, 'Supply at least one argument'\n",
    "    asummer = asummer or mk_asum(gf)\n",
    "    return asummer().END"
   ]
  },
  {
   "cell_type": "markdown",
   "metadata": {},
   "source": [
    "## Test Partial"
   ]
  },
  {
   "cell_type": "markdown",
   "metadata": {},
   "source": [
    "### Train"
   ]
  },
  {
   "cell_type": "code",
   "execution_count": 14,
   "metadata": {
    "collapsed": false
   },
   "outputs": [],
   "source": [
    "λ = 1\n",
    "\n",
    "\n",
    "def train_(zs: List[Tuple[EasyList, AugmentY]],\n",
    "          fjid='ly_VBZ', fs=None, ws=None, vb=True, tgs=None, rand=None):\n",
    "    fj = fs[fjid]\n",
    "    Fj = FeatUtils.mk_sum(fj)\n",
    "    pt = testprint(vb)\n",
    "    for x, y in zs:\n",
    "        gf_ = G(fs=fs, tags=tgs, xbar=x, ws=ws)\n",
    "        if not Fj(x, y):  # TODO: is this always right?\n",
    "            continue\n",
    "        pder = partial_d(gf_, fj, y, Fj=Fj)\n",
    "        wj0 = ws[fjid]\n",
    "        ws[fjid] += λ * pder\n",
    "        pt('wj: {} -> {}'.format(wj0, ws[fjid]))\n",
    "        pt('pder: {:.2f}'.format(pder), Fj(x, y))\n",
    "    return ws\n",
    "\n",
    "\n",
    "def train_j(zs: List[Tuple[EasyList, AugmentY]], fjid='ly_VBZ',\n",
    "            fs=None, ws=None, tol=.01, maxiter=10,vb=True,\n",
    "            tgs=None, sec=None):\n",
    "    ws1 = ws\n",
    "    pt = testprint(vb)\n",
    "    st = time.time()\n",
    "\n",
    "    for i in count(1):\n",
    "        nr.shuffle(zs)\n",
    "        pt('Iter', i)\n",
    "        wj1 = ws1[fjid]\n",
    "        ws2 = train_(zs, fjid=fjid, fs=fs, ws=ws1, vb=vb, tgs=tgs)\n",
    "        wj2 = ws2[fjid]\n",
    "        if abs((wj2 - wj1) / wj1) < tol \\\n",
    "            or (i >= maxiter) \\\n",
    "            or (sec is not None and (time.time() - st > sec)):\n",
    "            return ws, i\n",
    "        ws1 = ws2\n",
    "        \n",
    "def train(zs_, gf, ws=None, tol=.001, maxiter=10, vb=False,\n",
    "          sec=None, seed=1):\n",
    "    wst = (ws or gf.ws).copy()\n",
    "    nr.seed(seed)\n",
    "    zs = zs_.copy()\n",
    "\n",
    "\n",
    "    for fname, f in gf.fs.items():\n",
    "        itime = time.time()\n",
    "        wst, i = train_j(zs, fjid=fname, fs=gf.fs, ws=wst, tol=tol,\n",
    "                         maxiter=maxiter, vb=vb, tgs=gf.tags, sec=sec)\n",
    "        print(fname, 'trained in', i, 'iters: {:.2f} ({:.2f}s)'\n",
    "              .format(wst[fname], time.time() - itime))\n",
    "        sys.stdout.flush()\n",
    "    return wst\n",
    "\n",
    "# %time ws1c = train(zs, gf, mkwts1(gf.fs, 1), maxiter=100, tol=.005)"
   ]
  },
  {
   "cell_type": "markdown",
   "metadata": {},
   "source": [
    "## Evaluation\n",
    "Since I'm maximizing the log-likelihood during testing, that would seem a natural measure to evaluate improvement. I'm a bit suspicious about bugs in my implementation, so I'd like to evaluate Hamming distance between actual $y$ and the predicted sequence see how much the predictions improve. \n",
    "\n",
    "### Load data"
   ]
  },
  {
   "cell_type": "code",
   "execution_count": 15,
   "metadata": {
    "collapsed": true
   },
   "outputs": [],
   "source": [
    "with open('data/pos.train.txt','r') as f:\n",
    "    txt = f.read()\n",
    "    \n",
    "sents = filter(None, [zip(*[e.split() for e in sent.splitlines()])\n",
    "                      for sent in txt[:].split('\\n\\n')])\n",
    "X = map(itg(0), sents)\n",
    "Y_ = map(itg(1), sents)\n",
    "Xa = map(EasyList, X)\n",
    "Ya = map(AugmentY, Y_)\n",
    "\n",
    "tags = sorted({tag for y in Y_ for tag in y if tag.isalpha()})"
   ]
  },
  {
   "cell_type": "code",
   "execution_count": 16,
   "metadata": {
    "collapsed": true
   },
   "outputs": [],
   "source": [
    "# common bigrams\n",
    "bigs = defaultdict(lambda: defaultdict(int))\n",
    "\n",
    "for y in Y_:\n",
    "    for t1, t2 in zip(y[:-1], y[1:]):\n",
    "        bigs[t1][t2] += 1\n",
    "bigd = DataFrame(bigs).fillna(0)[tags].ix[tags]\n",
    "\n",
    "wcts_all = defaultdict(Counter)\n",
    "for xi, yi in zip(X, Y_):\n",
    "    for xw, yw in zip(xi, yi):\n",
    "        wcts_all[xw][yw] += 1"
   ]
  },
  {
   "cell_type": "code",
   "execution_count": 17,
   "metadata": {
    "collapsed": false
   },
   "outputs": [
    {
     "name": "stdout",
     "output_type": "stream",
     "text": [
      "8936 examples\n"
     ]
    }
   ],
   "source": [
    "# Split training and testing examples\n",
    "Zs = zip(Xa, Ya)\n",
    "print(len(Zs), 'examples')\n",
    "Zstrn = Zs[:100]\n",
    "Ztst = Zs[100:201]  # it's too slow right now,\n",
    "                    # so 100 examples in each set should do"
   ]
  },
  {
   "cell_type": "code",
   "execution_count": 18,
   "metadata": {
    "collapsed": true
   },
   "outputs": [],
   "source": [
    "def hamming(y, ypred, norm=True):\n",
    "    sm = sum(a != b for a, b in zip(y, ypred))\n",
    "    return sm / len(y) if norm else sm"
   ]
  },
  {
   "cell_type": "code",
   "execution_count": 21,
   "metadata": {
    "collapsed": false
   },
   "outputs": [
    {
     "name": "stdout",
     "output_type": "stream",
     "text": [
      "Initial error rate with random weights: 77.69%\n",
      "CPU times: user 1min 46s, sys: 277 ms, total: 1min 46s\n",
      "Wall time: 1min 48s\n"
     ]
    }
   ],
   "source": [
    "%%time\n",
    "fs0 = crf.fs\n",
    "ws0 = rand_weights(fs, seed=0)\n",
    "gf0 = G(fs=fs0, tags=sorted([START, END] + tags),\n",
    "        xbar=EasyList(['']), ws=ws0)\n",
    "\n",
    "hams0 = [\n",
    "    hamming(y.aug[1:-2], predict(gf=gf0._replace(xbar=x))[0][1:-2])\n",
    "    for x, y in Ztst[:]]\n",
    "print('Initial error rate with random weights: {:.2%}'\n",
    "      .format(np.mean(hams0)))"
   ]
  },
  {
   "cell_type": "markdown",
   "metadata": {},
   "source": [
    "This training takes forever...not recommended\n",
    "\n",
    "    %time ws_trn = train(Zstrn[:], gf, ws1e, maxiter=100, tol=.0005, sec=None, seed=3)"
   ]
  },
  {
   "cell_type": "code",
   "execution_count": 22,
   "metadata": {
    "collapsed": false
   },
   "outputs": [],
   "source": [
    "ws_trn = {'cap_nnp': 5.42, 'dig_cd': 6.2, 'dt_in': 3.26,\n",
    " 'fst_dt': 4.44, 'fst_nnp': 1.49, 'last_nn': 7.34,\n",
    " 'post_mr': 6.68, 'wd_a': 10.17, 'wd_and': 10.64,\n",
    " 'wd_for': 10.51, 'wd_in': 10.50, 'wd_of': 10.64,\n",
    " 'wd_the': 12.9, 'wd_to': 11.18}"
   ]
  },
  {
   "cell_type": "code",
   "execution_count": 23,
   "metadata": {
    "collapsed": false
   },
   "outputs": [
    {
     "name": "stdout",
     "output_type": "stream",
     "text": [
      "Error rate after training weights: 64.34%\n",
      "CPU times: user 41.2 s, sys: 104 ms, total: 41.3 s\n",
      "Wall time: 41.9 s\n"
     ]
    }
   ],
   "source": [
    "%%time\n",
    "gf_trn = gf0._replace(ws=ws_trn)\n",
    "hams_trn = [hamming(y.aug[1:-2],\n",
    "                    predict(gf=gf_trn._replace(xbar=x))[0][1:-2])\n",
    "            for x, y in Ztst[:]]\n",
    "print('Error rate after training weights: {:.2%}'\n",
    "      .format(np.mean(hams_trn)))"
   ]
  },
  {
   "cell_type": "markdown",
   "metadata": {},
   "source": [
    "The 78% to 64% error rate decrease seems to be a decent improvement, considering the small number of feature functions."
   ]
  },
  {
   "cell_type": "code",
   "execution_count": 24,
   "metadata": {
    "collapsed": true
   },
   "outputs": [],
   "source": [
    "!osascript -e beep"
   ]
  }
 ],
 "metadata": {
  "kernelspec": {
   "display_name": "Python 3",
   "language": "python",
   "name": "python3"
  },
  "language_info": {
   "codemirror_mode": {
    "name": "ipython",
    "version": 3
   },
   "file_extension": ".py",
   "mimetype": "text/x-python",
   "name": "python",
   "nbconvert_exporter": "python",
   "pygments_lexer": "ipython3",
   "version": "3.5.0"
  }
 },
 "nbformat": 4,
 "nbformat_minor": 0
}
