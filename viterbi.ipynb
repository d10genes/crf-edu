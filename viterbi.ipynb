{
 "cells": [
  {
   "cell_type": "code",
   "execution_count": null,
   "metadata": {
    "collapsed": false
   },
   "outputs": [],
   "source": [
    "from py3k_imports import * \n",
    "import project_imports3; reload(project_imports3); from project_imports3 import *\n",
    "\n",
    "import warnings\n",
    "warnings.filterwarnings('ignore')\n",
    "\n",
    "pu.psettings(pd)\n",
    "pd.options.display.width = 150   # 200\n",
    "%matplotlib inline"
   ]
  },
  {
   "cell_type": "code",
   "execution_count": null,
   "metadata": {
    "collapsed": false
   },
   "outputs": [],
   "source": [
    "%%javascript\n",
    "IPython.keyboard_manager.command_shortcuts.add_shortcut('Ctrl-k','ipython.move-selected-cell-up')\n",
    "IPython.keyboard_manager.command_shortcuts.add_shortcut('Ctrl-j','ipython.move-selected-cell-down')\n",
    "IPython.keyboard_manager.command_shortcuts.add_shortcut('Shift-m','ipython.merge-selected-cell-with-cell-after')"
   ]
  },
  {
   "cell_type": "markdown",
   "metadata": {},
   "source": [
    "# Viterbi\n",
    "Example from [here](http://homepages.ulb.ac.be/~dgonze/TEACHING/viterbi.pdf)\n",
    "\n",
    "s = StringIO()\n",
    "states2.to_csv(s)\n",
    "s.seek(0)\n",
    "sc = s.read()"
   ]
  },
  {
   "cell_type": "code",
   "execution_count": null,
   "metadata": {
    "collapsed": true
   },
   "outputs": [],
   "source": [
    "start = [.5, .5]\n",
    "state_names = ['H', 'L']\n",
    "obs_names = list('ACGT')\n",
    "transition = DataFrame([[.5, .5], [.4, .6]],\n",
    "                       columns=Series(state_names, name='To'),\n",
    "                       index=Series(state_names, name='From'))\n",
    "states = DataFrame(\n",
    "    [[0.2, 0.3, 0.3, 0.2],\n",
    "     [0.3, 0.2, 0.2, 0.3]], index=state_names, columns=obs_names)\n",
    "\n",
    "log = np.log2\n",
    "startL, transitionL, statesL = map(log, [start, transition, states])"
   ]
  },
  {
   "cell_type": "code",
   "execution_count": null,
   "metadata": {
    "collapsed": false
   },
   "outputs": [],
   "source": [
    "def build_table(s, startL, statesL, transitionL, convert_log=False):\n",
    "    \"\"\"\n",
    "    s: observed sequence\n",
    "    startL: initial state probabilities\n",
    "    statesL: p(obs_j | hidden state_i)\n",
    "    transitionL: p(transition to state_j|state_i)\n",
    "    \n",
    "    \"\"\"\n",
    "    if convert_log:\n",
    "        startL, statesL, transitionL = map(np.log, [startL, statesL, transitionL])\n",
    "    prev_path = DataFrame()\n",
    "    probs = DataFrame({0: startL + statesL[s[0]]})\n",
    "\n",
    "    for i, l in enumerate(s[1:], 1):\n",
    "        tocur = transitionL.add(probs[i-1], axis='index')  # p(current_state | each possible prev. state)\n",
    "        prev_path[i-1] = tocur.idxmax()\n",
    "        probs[i] = tocur.max() + statesL[l]  # p(current_state | most likely prev. state) * p(z|current_state)\n",
    "    return probs, prev_path\n",
    "\n",
    "def most_likely_path(probs, prev_path):\n",
    "    final_likely_state = probs.iloc[:, -1].idxmax()\n",
    "    backwards_path = [final_likely_state]\n",
    "\n",
    "    for c in reversed(list(prev_path)):\n",
    "        backwards_path.append(prev_path[c].ix[backwards_path[-1]])\n",
    "    mlp = backwards_path[::-1]\n",
    "    return mlp\n",
    "\n",
    "probs, prev_path = build_table('GGCACTGAA', startL, statesL, transitionL)\n",
    "mlp = most_likely_path(probs, prev_path)\n",
    "mlp"
   ]
  }
 ],
 "metadata": {
  "kernelspec": {
   "display_name": "Python 3",
   "language": "python",
   "name": "python3"
  },
  "language_info": {
   "codemirror_mode": {
    "name": "ipython",
    "version": 3
   },
   "file_extension": ".py",
   "mimetype": "text/x-python",
   "name": "python",
   "nbconvert_exporter": "python",
   "pygments_lexer": "ipython3",
   "version": "3.5.0"
  }
 },
 "nbformat": 4,
 "nbformat_minor": 0
}
